{
 "cells": [
  {
   "cell_type": "code",
   "execution_count": 1,
   "metadata": {},
   "outputs": [
    {
     "name": "stdout",
     "output_type": "stream",
     "text": [
      "> Loaded module:ptl.get\n"
     ]
    }
   ],
   "source": [
    "from ptl import get\n",
    "get.setup(debug=True, new_driver=True)"
   ]
  },
  {
   "cell_type": "code",
   "execution_count": 2,
   "metadata": {},
   "outputs": [],
   "source": [
    "URL='https://www.semrush.com/analytics/backlinks/overview/'\n",
    "domain='www.youtube.com'"
   ]
  },
  {
   "cell_type": "code",
   "execution_count": 3,
   "metadata": {
    "scrolled": true
   },
   "outputs": [
    {
     "name": "stdout",
     "output_type": "stream",
     "text": [
      "> Driver get: https://www.semrush.com/analytics/backlinks/overview/www.youtube.com\n"
     ]
    }
   ],
   "source": [
    "get.soup(URL+domain, get.DR)"
   ]
  },
  {
   "cell_type": "code",
   "execution_count": 15,
   "metadata": {
    "scrolled": true
   },
   "outputs": [
    {
     "data": {
      "text/plain": [
       "[<div class=\"ba-item--1tzUKb5ZzoSP4H-mAChia9\" data-test-flag2-item=\"total\"> <div class=\"ba-title--9wSmlxQX_Fl2Mw1pTYG-T\" data-test-flag2-title=\"\"> <span class=\"\"> Total Backlinks <i class=\"s-icon -xs -info -primary ba-tooltip-info-icon\"> <div class=\"ba-tooltip -top-left\" data-test-flag2-tooltip=\"\"> The number of links pointing to the queried URL </div> </i> </span> </div> <div class=\"ba-counter--mLdutJsWNCeLO46znAe6s\"> <a class=\"s-link -no-underline\" data-ga-event-name=\"total backlinks\" data-js-link=\"backlinks/www.youtube.com:root_domain\" data-test-flag2-value=\"\" href=\"/analytics/backlinks/backlinks/www.youtube.com:root_domain\"> 4.4B </a> </div> </div>,\n",
       " <div class=\"ba-item--1tzUKb5ZzoSP4H-mAChia9\" data-test-flag2-item=\"domains\"> <div class=\"ba-title--9wSmlxQX_Fl2Mw1pTYG-T\" data-test-flag2-title=\"\"> <span class=\"\"> Referring Domains <i class=\"s-icon -xs -info -primary ba-tooltip-info-icon\"> <div class=\"ba-tooltip -top-left\" data-test-flag2-tooltip=\"\"> The number of Domains pointing to the queried URL </div> </i> </span> </div> <div class=\"ba-counter--mLdutJsWNCeLO46znAe6s\"> <a class=\"s-link -no-underline\" data-ga-event-name=\"refdomains\" data-js-link=\"refdomains/www.youtube.com:root_domain\" data-test-flag2-value=\"\" href=\"/analytics/backlinks/refdomains/www.youtube.com:root_domain\"> 6M </a> </div> </div>,\n",
       " <div class=\"ba-item--1tzUKb5ZzoSP4H-mAChia9\" data-test-flag2-item=\"ip\"> <div class=\"ba-title--9wSmlxQX_Fl2Mw1pTYG-T\" data-test-flag2-title=\"\"> <span class=\"\"> Referring IPs <i class=\"s-icon -xs -info -primary ba-tooltip-info-icon\"> <div class=\"ba-tooltip -top-left\" data-test-flag2-tooltip=\"\"> The number of IPs pointing to the queried URL </div> </i> </span> </div> <div class=\"ba-counter--mLdutJsWNCeLO46znAe6s\"> <a class=\"s-link -no-underline\" data-ga-event-name=\"refips\" data-js-link=\"refips/www.youtube.com:root_domain\" data-test-flag2-value=\"\" href=\"/analytics/backlinks/refips/www.youtube.com:root_domain\"> 2.1M </a> </div> </div>,\n",
       " <div class=\"ba-item--1tzUKb5ZzoSP4H-mAChia9\" data-test-flag2-item=\"domain-score\"> <div class=\"ba-title--9wSmlxQX_Fl2Mw1pTYG-T\" data-test-flag2-title=\"\"> <span class=\"\">  Domain Score  <i class=\"s-icon -xs -info -primary ba-tooltip-info-icon\"> <div class=\"ba-tooltip -top-left\" data-test-flag2-tooltip=\"\">  Domain Score.<br/>This metric measures the importance of a domain using a 100-point scale (from 0 to 100) and is based on the quality and volume of links pointing to this domain. The higher the score, the higher the quality of the domain. Domain Score is calculated in the same way as Google's PageRank  </div> </i> </span> </div> <div class=\"ba-counter--mLdutJsWNCeLO46znAe6s\"> <span data-test-flag2-value=\"\"> 91 </span> </div> </div>,\n",
       " <div class=\"ba-item--1tzUKb5ZzoSP4H-mAChia9\" data-test-flag2-item=\"trust-score\"> <div class=\"ba-title--9wSmlxQX_Fl2Mw1pTYG-T\" data-test-flag2-title=\"\"> <span class=\"\">  Trust Score  <i class=\"s-icon -xs -info -primary ba-tooltip-info-icon\"> <div class=\"ba-tooltip -top-right\" data-test-flag2-tooltip=\"\">  Trust Score.<br/>This metric measures the trustworthiness of a particular domain using a 100-point scale (with ‘0’ indicating a low-trust site and ‘100’ indicating a highly trusted site) and is based on the number of backlinks from trusted sites pointing to the domain. If a site’s Trust Score is significantly lower than its Domain Score, this may be a sign that the latter was artificially inflated. Backlinks from such sites may trigger Google penalties.  </div> </i> </span> </div> <div class=\"ba-counter--mLdutJsWNCeLO46znAe6s\"> <span data-test-flag2-value=\"\"> 96 </span> <span class=\"ba-counter__diff--dSKWtpAqOH0e_mSTbFBlg ba-mod_up--2NaQyucjeElMo5OYyTsxNQ\" data-tooltip-trigger=\"\"> <i class=\"s-icon -xxs -up ba-counter__diff_icon--31lWzL3lunvVG-4mqhUJMM\"></i>1  <span class=\"ba-tooltip -top-left -one-line\"> Domain Score and Trust Score update:<br/> 2 days ago </span> </span> </div> </div>]"
      ]
     },
     "execution_count": 15,
     "metadata": {},
     "output_type": "execute_result"
    }
   ],
   "source": [
    "get.bes('ba-item--1tzUKb5ZzoSP4H-mAChia9')"
   ]
  },
  {
   "cell_type": "code",
   "execution_count": 30,
   "metadata": {
    "scrolled": true
   },
   "outputs": [
    {
     "name": "stdout",
     "output_type": "stream",
     "text": [
      " 1   Domain Score and Trust Score update: 2 days ago  \n"
     ]
    },
    {
     "data": {
      "text/plain": [
       "[{'Description': 'The number of links pointing to the queried URL',\n",
       "  'Type': 'Total Backlinks',\n",
       "  'Value': '4.4B'},\n",
       " {'Description': 'The number of Domains pointing to the queried URL',\n",
       "  'Type': 'Referring Domains',\n",
       "  'Value': '6M'},\n",
       " {'Description': 'The number of IPs pointing to the queried URL',\n",
       "  'Type': 'Referring IPs',\n",
       "  'Value': '2.1M'},\n",
       " {'Description': \"Domain Score.This metric measures the importance of a domain using a 100-point scale (from 0 to 100) and is based on the quality and volume of links pointing to this domain. The higher the score, the higher the quality of the domain. Domain Score is calculated in the same way as Google's PageRank\",\n",
       "  'Type': 'Domain Score',\n",
       "  'Value': '91'},\n",
       " {'Description': 'Trust Score.This metric measures the trustworthiness of a particular domain using a 100-point scale (with ‘0’ indicating a low-trust site and ‘100’ indicating a highly trusted site) and is based on the number of backlinks from trusted sites pointing to the domain. If a site’s Trust Score is significantly lower than its Domain Score, this may be a sign that the latter was artificially inflated. Backlinks from such sites may trigger Google penalties.',\n",
       "  'Type': 'Trust Score',\n",
       "  'Value': '96'}]"
      ]
     },
     "execution_count": 30,
     "metadata": {},
     "output_type": "execute_result"
    }
   ],
   "source": [
    "rows =[]\n",
    "for div in get.bes('ba-item--1tzUKb5ZzoSP4H-mAChia9'):\n",
    "    row={}\n",
    "    desc=div.span.i.text\n",
    "    row['Type']=(div.span.text.replace(desc, '').strip())\n",
    "    row['Description']=desc.strip()\n",
    "    val=get.bec(div)[1]\n",
    "    spans=val.findAll('span')\n",
    "    val=val.a if val.a else val.span\n",
    "    row['Value']=val.text.strip()\n",
    "    if spans and len(spans)>1:\n",
    "        print(spans[1].text)\n",
    "    rows.append(row)\n",
    "rows"
   ]
  },
  {
   "cell_type": "code",
   "execution_count": null,
   "metadata": {},
   "outputs": [],
   "source": []
  },
  {
   "cell_type": "code",
   "execution_count": 34,
   "metadata": {},
   "outputs": [
    {
     "name": "stdout",
     "output_type": "stream",
     "text": [
      "> Closed driver.\n"
     ]
    }
   ],
   "source": [
    "get.dcl()"
   ]
  },
  {
   "cell_type": "code",
   "execution_count": 2,
   "metadata": {},
   "outputs": [
    {
     "data": {
      "text/plain": [
       "'get.py'"
      ]
     },
     "execution_count": 2,
     "metadata": {},
     "output_type": "execute_result"
    }
   ],
   "source": [
    "get.quit(__file__)"
   ]
  },
  {
   "cell_type": "code",
   "execution_count": 8,
   "metadata": {},
   "outputs": [],
   "source": [
    "get.SOUP.find('div',{'id':'organicSummaryFlag'})"
   ]
  },
  {
   "cell_type": "code",
   "execution_count": 9,
   "metadata": {},
   "outputs": [],
   "source": [
    "get.bs(get.DR.page_source, 'html.parser').find('div',{'id':'organicSummaryFlag'})"
   ]
  },
  {
   "cell_type": "code",
   "execution_count": 7,
   "metadata": {},
   "outputs": [
    {
     "name": "stdout",
     "output_type": "stream",
     "text": [
      "> PLATFORM:\twin32\n",
      "> DEBUG:\tTrue\n",
      "> LIB_PATH:\tE:\\jupyter_notebook\\20171102\\ptl\\\n",
      "> ROOT_PATH:\tE:\\jupyter_notebook\\20171102\n",
      "> START_TIME:\t20171102_1435\n",
      "> Open new webdriver.\n"
     ]
    }
   ],
   "source": [
    "from ptl import get\n",
    "get.setup(debug=True, new_driver=True, extension='SEOquake_v3.5.26.crx')"
   ]
  },
  {
   "cell_type": "code",
   "execution_count": 8,
   "metadata": {},
   "outputs": [
    {
     "name": "stdout",
     "output_type": "stream",
     "text": [
      "> Get extension:\n",
      "> Get site: chrome-extension://akdgnmcogleenhbclghghlkkdndkjdjc/linkinfo.html\n"
     ]
    }
   ],
   "source": [
    "URL='chrome-extension://akdgnmcogleenhbclghghlkkdndkjdjc/linkinfo.html'\n",
    "get.dgs(URL)\n"
   ]
  },
  {
   "cell_type": "code",
   "execution_count": 13,
   "metadata": {},
   "outputs": [
    {
     "name": "stdout",
     "output_type": "stream",
     "text": [
      "> Wait for element:\tdata-role=urls\n",
      "> WebDriverException at line 360: Message: unknown error: Unsupported locator strategy: data-role\n",
      "  (Session info: chrome=61.0.3163.100)\n",
      "  (Driver info: chromedriver=2.32.498550 (9dec58e66c31bcc53a9ce3c7226f0c1c5810906a),platform=Windows NT 10.0.14393 x86_64)\n",
      "\n"
     ]
    }
   ],
   "source": [
    "get.dsk('urls','http://lazada.com','data-role')"
   ]
  },
  {
   "cell_type": "code",
   "execution_count": 14,
   "metadata": {},
   "outputs": [
    {
     "name": "stdout",
     "output_type": "stream",
     "text": [
      "> Wait for element:\tclass=sqbtn\n"
     ]
    }
   ],
   "source": [
    "get.dec('sqbtn')"
   ]
  },
  {
   "cell_type": "code",
   "execution_count": 18,
   "metadata": {
    "scrolled": true
   },
   "outputs": [
    {
     "ename": "FileExistsError",
     "evalue": "[WinError 183] Cannot create a file when that file already exists: 'test/asd/2/3/5'",
     "output_type": "error",
     "traceback": [
      "\u001b[1;31m---------------------------------------------------------------------------\u001b[0m",
      "\u001b[1;31mFileExistsError\u001b[0m                           Traceback (most recent call last)",
      "\u001b[1;32m<ipython-input-18-1de49e8a0ba0>\u001b[0m in \u001b[0;36m<module>\u001b[1;34m()\u001b[0m\n\u001b[0;32m      1\u001b[0m \u001b[1;32mimport\u001b[0m \u001b[0mos\u001b[0m\u001b[1;33m\u001b[0m\u001b[0m\n\u001b[1;32m----> 2\u001b[1;33m \u001b[0mos\u001b[0m\u001b[1;33m.\u001b[0m\u001b[0mmakedirs\u001b[0m\u001b[1;33m(\u001b[0m\u001b[1;34m'test/asd/2/3/5'\u001b[0m\u001b[1;33m)\u001b[0m\u001b[1;33m\u001b[0m\u001b[0m\n\u001b[0m",
      "\u001b[1;32mc:\\users\\thinkpad\\appdata\\local\\programs\\python\\python36-32\\lib\\os.py\u001b[0m in \u001b[0;36mmakedirs\u001b[1;34m(name, mode, exist_ok)\u001b[0m\n\u001b[0;32m    218\u001b[0m             \u001b[1;32mreturn\u001b[0m\u001b[1;33m\u001b[0m\u001b[0m\n\u001b[0;32m    219\u001b[0m     \u001b[1;32mtry\u001b[0m\u001b[1;33m:\u001b[0m\u001b[1;33m\u001b[0m\u001b[0m\n\u001b[1;32m--> 220\u001b[1;33m         \u001b[0mmkdir\u001b[0m\u001b[1;33m(\u001b[0m\u001b[0mname\u001b[0m\u001b[1;33m,\u001b[0m \u001b[0mmode\u001b[0m\u001b[1;33m)\u001b[0m\u001b[1;33m\u001b[0m\u001b[0m\n\u001b[0m\u001b[0;32m    221\u001b[0m     \u001b[1;32mexcept\u001b[0m \u001b[0mOSError\u001b[0m\u001b[1;33m:\u001b[0m\u001b[1;33m\u001b[0m\u001b[0m\n\u001b[0;32m    222\u001b[0m         \u001b[1;31m# Cannot rely on checking for EEXIST, since the operating system\u001b[0m\u001b[1;33m\u001b[0m\u001b[1;33m\u001b[0m\u001b[0m\n",
      "\u001b[1;31mFileExistsError\u001b[0m: [WinError 183] Cannot create a file when that file already exists: 'test/asd/2/3/5'"
     ]
    }
   ],
   "source": [
    "import os\n",
    "os.makedirs('test/asd/2/3/5')\n"
   ]
  },
  {
   "cell_type": "code",
   "execution_count": 23,
   "metadata": {},
   "outputs": [
    {
     "data": {
      "text/plain": [
       "False"
      ]
     },
     "execution_count": 23,
     "metadata": {},
     "output_type": "execute_result"
    }
   ],
   "source": [
    "os.path.isdir(path+'1')"
   ]
  },
  {
   "cell_type": "code",
   "execution_count": 17,
   "metadata": {},
   "outputs": [
    {
     "data": {
      "text/plain": [
       "'test/asd/2/3'"
      ]
     },
     "execution_count": 17,
     "metadata": {},
     "output_type": "execute_result"
    }
   ],
   "source": [
    "path='test/asd/2/3/5'\n",
    "path[:path.rfind('/')]"
   ]
  }
 ],
 "metadata": {
  "kernelspec": {
   "display_name": "Python 3",
   "language": "python",
   "name": "python3"
  },
  "language_info": {
   "codemirror_mode": {
    "name": "ipython",
    "version": 3
   },
   "file_extension": ".py",
   "mimetype": "text/x-python",
   "name": "python",
   "nbconvert_exporter": "python",
   "pygments_lexer": "ipython3",
   "version": "3.6.3"
  }
 },
 "nbformat": 4,
 "nbformat_minor": 2
}
