{
 "cells": [
  {
   "cell_type": "code",
   "execution_count": 11,
   "metadata": {},
   "outputs": [],
   "source": [
    "from ptl import get"
   ]
  },
  {
   "cell_type": "code",
   "execution_count": 12,
   "metadata": {
    "scrolled": true
   },
   "outputs": [
    {
     "name": "stdout",
     "output_type": "stream",
     "text": [
      "> PLATFORM:\twin32\n",
      "> DEBUG:\tTrue\n",
      "> LIB_PATH:\tE:\\jupyter_notebook\\20171106\\ptl\\\n",
      "> ROOT_PATH:\tE:\\jupyter_notebook\\20171106\n",
      "> START_TIME:\t20171106_1005\n",
      "> Open new webdriver.\n"
     ]
    }
   ],
   "source": [
    "get.setup(debug=True, driver=True)"
   ]
  },
  {
   "cell_type": "code",
   "execution_count": 13,
   "metadata": {},
   "outputs": [],
   "source": [
    "domain = 'reddit.com'\n",
    "overview = 'https://www.spyfu.com/overview/domain?query='\n",
    "seo_cp = 'https://www.spyfu.com/seo/competitors/domain?rowsPerPage=2500&query='\n",
    "ppc_cp = 'https://www.spyfu.com/ppc/competitors/domain?rowsPerPage=2500&query='\n",
    "seo_kw = 'https://www.spyfu.com/seo/keywords/domain?rowsPerPage=2500&query='\n",
    "ppc_kw = 'https://www.spyfu.com/ppc/keywords/domain?rowsPerPage=2500&query='"
   ]
  },
  {
   "cell_type": "code",
   "execution_count": 14,
   "metadata": {},
   "outputs": [
    {
     "name": "stdout",
     "output_type": "stream",
     "text": [
      "> Driver get: https://www.spyfu.com/overview/domain?query=reddit.com\n"
     ]
    }
   ],
   "source": [
    "get.soup(overview+domain, get.DR)"
   ]
  },
  {
   "cell_type": "code",
   "execution_count": 15,
   "metadata": {},
   "outputs": [
    {
     "data": {
      "text/plain": [
       "1722746.0"
      ]
     },
     "execution_count": 15,
     "metadata": {},
     "output_type": "execute_result"
    }
   ],
   "source": [
    "get.bef('organic-search-widget-keywords-count')"
   ]
  },
  {
   "cell_type": "code",
   "execution_count": 16,
   "metadata": {},
   "outputs": [
    {
     "data": {
      "text/plain": [
       "129199999.99999999"
      ]
     },
     "execution_count": 16,
     "metadata": {},
     "output_type": "execute_result"
    }
   ],
   "source": [
    "get.bef('organic-search-widget-monthly-clicks-count')"
   ]
  },
  {
   "cell_type": "code",
   "execution_count": 17,
   "metadata": {},
   "outputs": [
    {
     "data": {
      "text/plain": [
       "209"
      ]
     },
     "execution_count": 17,
     "metadata": {},
     "output_type": "execute_result"
    }
   ],
   "source": [
    "get.bef('paid-search-widget-keywords-count')"
   ]
  },
  {
   "cell_type": "code",
   "execution_count": 18,
   "metadata": {},
   "outputs": [
    {
     "data": {
      "text/plain": [
       "0"
      ]
     },
     "execution_count": 18,
     "metadata": {},
     "output_type": "execute_result"
    }
   ],
   "source": [
    "get.bef('paid-search-widget-monthly-clicks-count')"
   ]
  },
  {
   "cell_type": "code",
   "execution_count": 19,
   "metadata": {
    "scrolled": true
   },
   "outputs": [
    {
     "data": {
      "text/plain": [
       "'100%'"
      ]
     },
     "execution_count": 19,
     "metadata": {},
     "output_type": "execute_result"
    }
   ],
   "source": [
    "get.bet('domain-overview-inbound-clicks-ratio-percent')"
   ]
  },
  {
   "cell_type": "code",
   "execution_count": 59,
   "metadata": {},
   "outputs": [],
   "source": [
    "def get_table(index=0):\n",
    "    tbl = get.be('backgrid','table',index=index)\n",
    "    if not tbl:\n",
    "        get.log(\"> There is no table data\")\n",
    "        return\n",
    "    cols = [e.text.strip() for e in tbl.thead.findAll('th')][1:] #column names\n",
    "    #get.log('> Columns: '+str(cols))\n",
    "    rows = []\n",
    "    for tr in [tr for tr in tbl.tbody.findAll('tr')]:\n",
    "        try:\n",
    "            row = {}\n",
    "            tds = tr.findAll('td')[1:]\n",
    "            for  i, td in enumerate(tds):\n",
    "                if cols[i]=='Domain Name': #domain name column\n",
    "                    row[cols[i]] = td.text\n",
    "                elif cols[i]=='Overlap': \n",
    "                    if td.a: #overlap column\n",
    "                        overlap = td.a.div['style'].replace('width: ', '').replace('%', '')\n",
    "                        row[cols[i]] = float(overlap)\n",
    "                    else:\n",
    "                        if td.i: # rank change column\n",
    "                            text = td.text.split('(')\n",
    "                            row['Rank']= text[0]\n",
    "                            row['Rank Change']= text[1].replace(')', '') if len(text)>1 else ''\n",
    "                        else:\n",
    "                            row[cols[i]]=-1               \n",
    "                elif cols[i]=='Keyword':\n",
    "                    keyword = get.bec(td)\n",
    "                    row[cols[i]] = keyword[0].text\n",
    "                    row[cols[i]+' URL'] = keyword[1].text if len(keyword)>1 else ''\n",
    "                elif cols[i]=='Ad Timeline':\n",
    "                    keyword = get.bec(td)\n",
    "                    row[cols[i]] = keyword[0].text                    \n",
    "                elif len(cols[i])>0: #other column\n",
    "                    if '(' in td.text:\n",
    "                        text=td.text.split('(')\n",
    "                        row['Rank'] = int(text[0])\n",
    "                        text[1] = text[1].replace(')', '')\n",
    "                        row[cols[i]]= int(text[1]) if text[1].isdigit() else 0\n",
    "                    else: row[cols[i]] = get.s2f(td.text) \n",
    "        except: get.pe()\n",
    "        rows.append(row)\n",
    "    return get.DataFrame(rows)"
   ]
  },
  {
   "cell_type": "code",
   "execution_count": 21,
   "metadata": {},
   "outputs": [],
   "source": [
    "get.WDW_DELAY=120"
   ]
  },
  {
   "cell_type": "code",
   "execution_count": 22,
   "metadata": {
    "scrolled": true
   },
   "outputs": [
    {
     "name": "stdout",
     "output_type": "stream",
     "text": [
      "> Driver get: https://www.spyfu.com/seo/competitors/domain?rowsPerPage=2500&query=reddit.com\n",
      "> Wait for element:\tclass=backgrid\n"
     ]
    }
   ],
   "source": [
    "get.soup(seo_cp+domain, get.DR, waitc='class', waitv='backgrid')"
   ]
  },
  {
   "cell_type": "code",
   "execution_count": 23,
   "metadata": {
    "scrolled": true
   },
   "outputs": [
    {
     "data": {
      "text/html": [
       "<div>\n",
       "<style>\n",
       "    .dataframe thead tr:only-child th {\n",
       "        text-align: right;\n",
       "    }\n",
       "\n",
       "    .dataframe thead th {\n",
       "        text-align: left;\n",
       "    }\n",
       "\n",
       "    .dataframe tbody tr th {\n",
       "        vertical-align: top;\n",
       "    }\n",
       "</style>\n",
       "<table border=\"1\" class=\"dataframe\">\n",
       "  <thead>\n",
       "    <tr style=\"text-align: right;\">\n",
       "      <th></th>\n",
       "      <th>CommonKeywords</th>\n",
       "      <th>Domain Name</th>\n",
       "      <th>MonthlyClicks</th>\n",
       "      <th>MonthlyValue of Clicks</th>\n",
       "      <th>Number ofKeywords</th>\n",
       "      <th>Overlap</th>\n",
       "    </tr>\n",
       "  </thead>\n",
       "  <tbody>\n",
       "    <tr>\n",
       "      <th>0</th>\n",
       "      <td>-9999.0</td>\n",
       "      <td>reddit.com</td>\n",
       "      <td>1.290000e+08</td>\n",
       "      <td>6.140000e+07</td>\n",
       "      <td>1720000.0</td>\n",
       "      <td>-1.000000</td>\n",
       "    </tr>\n",
       "    <tr>\n",
       "      <th>1</th>\n",
       "      <td>1050000.0</td>\n",
       "      <td>youtube.com</td>\n",
       "      <td>2.380000e+12</td>\n",
       "      <td>1.410000e+12</td>\n",
       "      <td>10900000.0</td>\n",
       "      <td>91.000000</td>\n",
       "    </tr>\n",
       "    <tr>\n",
       "      <th>2</th>\n",
       "      <td>339000.0</td>\n",
       "      <td>quora.com</td>\n",
       "      <td>5.250000e+07</td>\n",
       "      <td>3.780000e+07</td>\n",
       "      <td>1680000.0</td>\n",
       "      <td>67.557453</td>\n",
       "    </tr>\n",
       "    <tr>\n",
       "      <th>3</th>\n",
       "      <td>687000.0</td>\n",
       "      <td>amazon.com</td>\n",
       "      <td>4.910000e+08</td>\n",
       "      <td>2.710000e+08</td>\n",
       "      <td>7760000.0</td>\n",
       "      <td>51.619269</td>\n",
       "    </tr>\n",
       "    <tr>\n",
       "      <th>4</th>\n",
       "      <td>620000.0</td>\n",
       "      <td>wikipedia.org</td>\n",
       "      <td>3.680000e+12</td>\n",
       "      <td>2.900000e+12</td>\n",
       "      <td>7690000.0</td>\n",
       "      <td>47.812065</td>\n",
       "    </tr>\n",
       "  </tbody>\n",
       "</table>\n",
       "</div>"
      ],
      "text/plain": [
       "   CommonKeywords    Domain Name  MonthlyClicks  MonthlyValue of Clicks  \\\n",
       "0         -9999.0     reddit.com   1.290000e+08            6.140000e+07   \n",
       "1       1050000.0    youtube.com   2.380000e+12            1.410000e+12   \n",
       "2        339000.0      quora.com   5.250000e+07            3.780000e+07   \n",
       "3        687000.0     amazon.com   4.910000e+08            2.710000e+08   \n",
       "4        620000.0  wikipedia.org   3.680000e+12            2.900000e+12   \n",
       "\n",
       "   Number ofKeywords    Overlap  \n",
       "0          1720000.0  -1.000000  \n",
       "1         10900000.0  91.000000  \n",
       "2          1680000.0  67.557453  \n",
       "3          7760000.0  51.619269  \n",
       "4          7690000.0  47.812065  "
      ]
     },
     "execution_count": 23,
     "metadata": {},
     "output_type": "execute_result"
    }
   ],
   "source": [
    "df = get_table(0)\n",
    "get.save(df, 'tables/'+domain+'_seo_competitors')\n",
    "df.head()"
   ]
  },
  {
   "cell_type": "code",
   "execution_count": 24,
   "metadata": {
    "scrolled": true
   },
   "outputs": [
    {
     "name": "stdout",
     "output_type": "stream",
     "text": [
      "> Driver get: https://www.spyfu.com/ppc/competitors/domain?rowsPerPage=2500&query=reddit.com\n",
      "> Wait for element:\tclass=backgrid\n"
     ]
    }
   ],
   "source": [
    "get.soup(ppc_cp+domain, get.DR, waitc='class', waitv='backgrid')"
   ]
  },
  {
   "cell_type": "code",
   "execution_count": 25,
   "metadata": {
    "scrolled": false
   },
   "outputs": [
    {
     "data": {
      "text/html": [
       "<div>\n",
       "<style>\n",
       "    .dataframe thead tr:only-child th {\n",
       "        text-align: right;\n",
       "    }\n",
       "\n",
       "    .dataframe thead th {\n",
       "        text-align: left;\n",
       "    }\n",
       "\n",
       "    .dataframe tbody tr th {\n",
       "        vertical-align: top;\n",
       "    }\n",
       "</style>\n",
       "<table border=\"1\" class=\"dataframe\">\n",
       "  <thead>\n",
       "    <tr style=\"text-align: right;\">\n",
       "      <th></th>\n",
       "      <th>CommonKeywords</th>\n",
       "      <th>Domain Name</th>\n",
       "      <th>MonthlyAd Budget</th>\n",
       "      <th>MonthlyPaid Clicks</th>\n",
       "      <th>MonthlyPaid Keywords</th>\n",
       "      <th>Overlap</th>\n",
       "    </tr>\n",
       "  </thead>\n",
       "  <tbody>\n",
       "    <tr>\n",
       "      <th>0</th>\n",
       "      <td>-9999</td>\n",
       "      <td>reddit.com</td>\n",
       "      <td>-9999.0</td>\n",
       "      <td>-9999.0</td>\n",
       "      <td>-9999.0</td>\n",
       "      <td>-1.000000</td>\n",
       "    </tr>\n",
       "    <tr>\n",
       "      <th>1</th>\n",
       "      <td>1</td>\n",
       "      <td>easypii.com</td>\n",
       "      <td>-9999.0</td>\n",
       "      <td>-9999.0</td>\n",
       "      <td>-9999.0</td>\n",
       "      <td>91.000000</td>\n",
       "    </tr>\n",
       "    <tr>\n",
       "      <th>2</th>\n",
       "      <td>1</td>\n",
       "      <td>funnel.io</td>\n",
       "      <td>8910.0</td>\n",
       "      <td>1880.0</td>\n",
       "      <td>479.0</td>\n",
       "      <td>48.025611</td>\n",
       "    </tr>\n",
       "    <tr>\n",
       "      <th>3</th>\n",
       "      <td>1</td>\n",
       "      <td>rm-ransomwarerecovery.com</td>\n",
       "      <td>101.0</td>\n",
       "      <td>79.3</td>\n",
       "      <td>9.0</td>\n",
       "      <td>41.708333</td>\n",
       "    </tr>\n",
       "    <tr>\n",
       "      <th>4</th>\n",
       "      <td>3</td>\n",
       "      <td>imonitorsoft.com</td>\n",
       "      <td>5510.0</td>\n",
       "      <td>2160.0</td>\n",
       "      <td>337.0</td>\n",
       "      <td>23.552941</td>\n",
       "    </tr>\n",
       "  </tbody>\n",
       "</table>\n",
       "</div>"
      ],
      "text/plain": [
       "   CommonKeywords                Domain Name  MonthlyAd Budget  \\\n",
       "0           -9999                 reddit.com           -9999.0   \n",
       "1               1                easypii.com           -9999.0   \n",
       "2               1                  funnel.io            8910.0   \n",
       "3               1  rm-ransomwarerecovery.com             101.0   \n",
       "4               3           imonitorsoft.com            5510.0   \n",
       "\n",
       "   MonthlyPaid Clicks  MonthlyPaid Keywords    Overlap  \n",
       "0             -9999.0               -9999.0  -1.000000  \n",
       "1             -9999.0               -9999.0  91.000000  \n",
       "2              1880.0                 479.0  48.025611  \n",
       "3                79.3                   9.0  41.708333  \n",
       "4              2160.0                 337.0  23.552941  "
      ]
     },
     "execution_count": 25,
     "metadata": {},
     "output_type": "execute_result"
    }
   ],
   "source": [
    "df = get_table(0)\n",
    "get.save(df, 'tables/'+domain+'_paid_competitors')\n",
    "df.head()"
   ]
  },
  {
   "cell_type": "code",
   "execution_count": 46,
   "metadata": {
    "scrolled": true
   },
   "outputs": [
    {
     "name": "stdout",
     "output_type": "stream",
     "text": [
      "> Driver get: https://www.spyfu.com/seo/keywords/domain?rowsPerPage=2500&query=reddit.com\n",
      "> Wait for element:\tclass=backgrid\n"
     ]
    }
   ],
   "source": [
    "get.soup(seo_kw+domain, get.DR, waitc='class', waitv='backgrid')"
   ]
  },
  {
   "cell_type": "code",
   "execution_count": 60,
   "metadata": {
    "scrolled": true
   },
   "outputs": [
    {
     "data": {
      "text/html": [
       "<div>\n",
       "<style>\n",
       "    .dataframe thead tr:only-child th {\n",
       "        text-align: right;\n",
       "    }\n",
       "\n",
       "    .dataframe thead th {\n",
       "        text-align: left;\n",
       "    }\n",
       "\n",
       "    .dataframe tbody tr th {\n",
       "        vertical-align: top;\n",
       "    }\n",
       "</style>\n",
       "<table border=\"1\" class=\"dataframe\">\n",
       "  <thead>\n",
       "    <tr style=\"text-align: right;\">\n",
       "      <th></th>\n",
       "      <th>Cost/Click</th>\n",
       "      <th>Est. Click Value/Mo</th>\n",
       "      <th>Est. Clicks/Mo</th>\n",
       "      <th>Keyword</th>\n",
       "      <th>Keyword URL</th>\n",
       "      <th>Rank</th>\n",
       "      <th>Rank (Change)</th>\n",
       "      <th>Ranking Difficulty</th>\n",
       "      <th>Searches/Mo</th>\n",
       "    </tr>\n",
       "  </thead>\n",
       "  <tbody>\n",
       "    <tr>\n",
       "      <th>0</th>\n",
       "      <td>9.0</td>\n",
       "      <td>2570000.0</td>\n",
       "      <td>262000.0</td>\n",
       "      <td>googe.com</td>\n",
       "      <td>reddit.com/r/todayilearned/comments/l00v9/til...</td>\n",
       "      <td>4</td>\n",
       "      <td>4</td>\n",
       "      <td>63</td>\n",
       "      <td>6120000.0</td>\n",
       "    </tr>\n",
       "    <tr>\n",
       "      <th>1</th>\n",
       "      <td>13.0</td>\n",
       "      <td>2410000.0</td>\n",
       "      <td>177000.0</td>\n",
       "      <td>googlle.com</td>\n",
       "      <td>reddit.com/domain/googlle.com</td>\n",
       "      <td>6</td>\n",
       "      <td>3</td>\n",
       "      <td>66</td>\n",
       "      <td>6120000.0</td>\n",
       "    </tr>\n",
       "    <tr>\n",
       "      <th>2</th>\n",
       "      <td>16.0</td>\n",
       "      <td>1560000.0</td>\n",
       "      <td>95000.0</td>\n",
       "      <td>twitt er</td>\n",
       "      <td>reddit.com/r/neuroscience/comments/4bf1pi/wha...</td>\n",
       "      <td>21</td>\n",
       "      <td>10</td>\n",
       "      <td>63</td>\n",
       "      <td>11100000.0</td>\n",
       "    </tr>\n",
       "    <tr>\n",
       "      <th>3</th>\n",
       "      <td>12.0</td>\n",
       "      <td>1030000.0</td>\n",
       "      <td>80100.0</td>\n",
       "      <td>www.restraunts.com</td>\n",
       "      <td>reddit.com/r/freebies/comments/6bgj0y/tmobile...</td>\n",
       "      <td>11</td>\n",
       "      <td>13</td>\n",
       "      <td>47</td>\n",
       "      <td>5000000.0</td>\n",
       "    </tr>\n",
       "    <tr>\n",
       "      <th>4</th>\n",
       "      <td>48.0</td>\n",
       "      <td>998000.0</td>\n",
       "      <td>20600.0</td>\n",
       "      <td>cars insurence</td>\n",
       "      <td>reddit.com/r/cars/comments/4o7c84/need_cheap_...</td>\n",
       "      <td>2</td>\n",
       "      <td>3</td>\n",
       "      <td>59</td>\n",
       "      <td>246000.0</td>\n",
       "    </tr>\n",
       "  </tbody>\n",
       "</table>\n",
       "</div>"
      ],
      "text/plain": [
       "   Cost/Click  Est. Click Value/Mo  Est. Clicks/Mo             Keyword  \\\n",
       "0         9.0            2570000.0        262000.0           googe.com   \n",
       "1        13.0            2410000.0        177000.0         googlle.com   \n",
       "2        16.0            1560000.0         95000.0            twitt er   \n",
       "3        12.0            1030000.0         80100.0  www.restraunts.com   \n",
       "4        48.0             998000.0         20600.0      cars insurence   \n",
       "\n",
       "                                         Keyword URL  Rank  Rank (Change)  \\\n",
       "0   reddit.com/r/todayilearned/comments/l00v9/til...     4              4   \n",
       "1                      reddit.com/domain/googlle.com     6              3   \n",
       "2   reddit.com/r/neuroscience/comments/4bf1pi/wha...    21             10   \n",
       "3   reddit.com/r/freebies/comments/6bgj0y/tmobile...    11             13   \n",
       "4   reddit.com/r/cars/comments/4o7c84/need_cheap_...     2              3   \n",
       "\n",
       "   Ranking Difficulty  Searches/Mo  \n",
       "0                  63    6120000.0  \n",
       "1                  66    6120000.0  \n",
       "2                  63   11100000.0  \n",
       "3                  47    5000000.0  \n",
       "4                  59     246000.0  "
      ]
     },
     "execution_count": 60,
     "metadata": {},
     "output_type": "execute_result"
    }
   ],
   "source": [
    "df = get_table(1)\n",
    "get.save(df, 'tables/'+domain+'_seo_keywords')\n",
    "df.head()"
   ]
  },
  {
   "cell_type": "code",
   "execution_count": 63,
   "metadata": {},
   "outputs": [
    {
     "data": {
      "text/plain": [
       "0       2570000.0\n",
       "1       2410000.0\n",
       "2       1560000.0\n",
       "3       1030000.0\n",
       "4        998000.0\n",
       "5        841000.0\n",
       "6        638000.0\n",
       "7        482000.0\n",
       "8        375000.0\n",
       "9        361000.0\n",
       "10       342000.0\n",
       "11       339000.0\n",
       "12       318000.0\n",
       "13       271000.0\n",
       "14       269000.0\n",
       "15       265000.0\n",
       "16       257000.0\n",
       "17       255000.0\n",
       "18       244000.0\n",
       "19       198000.0\n",
       "20       197000.0\n",
       "21       153000.0\n",
       "22       148000.0\n",
       "23       142000.0\n",
       "24       132000.0\n",
       "25       124000.0\n",
       "26       119000.0\n",
       "27       113000.0\n",
       "28       106000.0\n",
       "29       100000.0\n",
       "          ...    \n",
       "2470       1230.0\n",
       "2471       1230.0\n",
       "2472       1230.0\n",
       "2473       1230.0\n",
       "2474       1230.0\n",
       "2475       1230.0\n",
       "2476       1230.0\n",
       "2477       1230.0\n",
       "2478       1230.0\n",
       "2479       1230.0\n",
       "2480       1230.0\n",
       "2481       1230.0\n",
       "2482       1220.0\n",
       "2483       1220.0\n",
       "2484       1220.0\n",
       "2485       1220.0\n",
       "2486       1220.0\n",
       "2487       1220.0\n",
       "2488       1220.0\n",
       "2489       1220.0\n",
       "2490       1220.0\n",
       "2491       1220.0\n",
       "2492       1220.0\n",
       "2493       1220.0\n",
       "2494       1220.0\n",
       "2495       1220.0\n",
       "2496       1220.0\n",
       "2497       1220.0\n",
       "2498       1220.0\n",
       "2499       1210.0\n",
       "Name: Est. Click Value/Mo, Length: 2500, dtype: float64"
      ]
     },
     "execution_count": 63,
     "metadata": {},
     "output_type": "execute_result"
    }
   ],
   "source": [
    "df['Est. Click Value/Mo']"
   ]
  },
  {
   "cell_type": "code",
   "execution_count": 28,
   "metadata": {
    "scrolled": false
   },
   "outputs": [
    {
     "name": "stdout",
     "output_type": "stream",
     "text": [
      "> Driver get: https://www.spyfu.com/ppc/keywords/domain?rowsPerPage=2500&query=reddit.com\n",
      "> Wait for element:\tclass=backgrid\n"
     ]
    }
   ],
   "source": [
    "get.soup(ppc_kw+domain, get.DR, waitc='class', waitv='backgrid')"
   ]
  },
  {
   "cell_type": "code",
   "execution_count": 45,
   "metadata": {
    "scrolled": true
   },
   "outputs": [
    {
     "data": {
      "text/html": [
       "<div>\n",
       "<style>\n",
       "    .dataframe thead tr:only-child th {\n",
       "        text-align: right;\n",
       "    }\n",
       "\n",
       "    .dataframe thead th {\n",
       "        text-align: left;\n",
       "    }\n",
       "\n",
       "    .dataframe tbody tr th {\n",
       "        vertical-align: top;\n",
       "    }\n",
       "</style>\n",
       "<table border=\"1\" class=\"dataframe\">\n",
       "  <thead>\n",
       "    <tr style=\"text-align: right;\">\n",
       "      <th></th>\n",
       "      <th>Ad Position</th>\n",
       "      <th>Ad Timeline</th>\n",
       "      <th>Cost Per Click</th>\n",
       "      <th>Keyword</th>\n",
       "      <th>Keyword URL</th>\n",
       "      <th>Monthly Cost</th>\n",
       "      <th>Monthly Searches</th>\n",
       "      <th>Total Ads</th>\n",
       "    </tr>\n",
       "  </thead>\n",
       "  <tbody>\n",
       "    <tr>\n",
       "      <th>0</th>\n",
       "      <td>7</td>\n",
       "      <td></td>\n",
       "      <td>5.0</td>\n",
       "      <td>day trading how to</td>\n",
       "      <td>reddit.com</td>\n",
       "      <td>1540.0</td>\n",
       "      <td>30.0</td>\n",
       "      <td>10</td>\n",
       "    </tr>\n",
       "    <tr>\n",
       "      <th>1</th>\n",
       "      <td>5</td>\n",
       "      <td></td>\n",
       "      <td>5.0</td>\n",
       "      <td>how to invest your money</td>\n",
       "      <td>reddit.com</td>\n",
       "      <td>1420.0</td>\n",
       "      <td>4380.0</td>\n",
       "      <td>10</td>\n",
       "    </tr>\n",
       "    <tr>\n",
       "      <th>2</th>\n",
       "      <td>7</td>\n",
       "      <td></td>\n",
       "      <td>5.0</td>\n",
       "      <td>best day trading</td>\n",
       "      <td>reddit.com</td>\n",
       "      <td>370.0</td>\n",
       "      <td>150.0</td>\n",
       "      <td>11</td>\n",
       "    </tr>\n",
       "    <tr>\n",
       "      <th>3</th>\n",
       "      <td>3</td>\n",
       "      <td></td>\n",
       "      <td>6.0</td>\n",
       "      <td>best stock charts</td>\n",
       "      <td>reddit.com</td>\n",
       "      <td>350.0</td>\n",
       "      <td>570.0</td>\n",
       "      <td>7</td>\n",
       "    </tr>\n",
       "    <tr>\n",
       "      <th>4</th>\n",
       "      <td>1</td>\n",
       "      <td></td>\n",
       "      <td>0.0</td>\n",
       "      <td>download stock data</td>\n",
       "      <td>reddit.com</td>\n",
       "      <td>210.0</td>\n",
       "      <td>300.0</td>\n",
       "      <td>1</td>\n",
       "    </tr>\n",
       "  </tbody>\n",
       "</table>\n",
       "</div>"
      ],
      "text/plain": [
       "   Ad Position Ad Timeline  Cost Per Click                   Keyword  \\\n",
       "0            7                         5.0        day trading how to   \n",
       "1            5                         5.0  how to invest your money   \n",
       "2            7                         5.0          best day trading   \n",
       "3            3                         6.0         best stock charts   \n",
       "4            1                         0.0       download stock data   \n",
       "\n",
       "   Keyword URL  Monthly Cost  Monthly Searches  Total Ads  \n",
       "0   reddit.com        1540.0              30.0         10  \n",
       "1   reddit.com        1420.0            4380.0         10  \n",
       "2   reddit.com         370.0             150.0         11  \n",
       "3   reddit.com         350.0             570.0          7  \n",
       "4   reddit.com         210.0             300.0          1  "
      ]
     },
     "execution_count": 45,
     "metadata": {},
     "output_type": "execute_result"
    }
   ],
   "source": [
    "df = get_table(0)\n",
    "get.save(df, 'tables/'+domain+'_paid_keywords')\n",
    "df.head()"
   ]
  },
  {
   "cell_type": "code",
   "execution_count": 39,
   "metadata": {},
   "outputs": [
    {
     "name": "stdout",
     "output_type": "stream",
     "text": [
      "[<div class=\"keyword\"><a class=\"goto-keyword\" href=\"/keyword/overview?query=day%20trading%20how%20to\">day trading how to</a></div>, <div class=\"link\"><a href=\"http://reddit.com\" target=\"_blank\" title=\"reddit.com\"><i class=\"fa fa-external-link\"></i> </a><a class=\"goto-url\" href=\"/overview/url?query=reddit.com\">reddit.com</a></div>]\n",
      "[<div class=\"keyword\"><a class=\"goto-keyword\" href=\"/keyword/overview?query=how%20to%20invest%20your%20money\">how to invest your money</a></div>, <div class=\"link\"><a href=\"http://reddit.com\" target=\"_blank\" title=\"reddit.com\"><i class=\"fa fa-external-link\"></i> </a><a class=\"goto-url\" href=\"/overview/url?query=reddit.com\">reddit.com</a></div>]\n",
      "[<div class=\"keyword\"><a class=\"goto-keyword\" href=\"/keyword/overview?query=best%20day%20trading\">best day trading</a></div>, <div class=\"link\"><a href=\"http://reddit.com\" target=\"_blank\" title=\"reddit.com\"><i class=\"fa fa-external-link\"></i> </a><a class=\"goto-url\" href=\"/overview/url?query=reddit.com\">reddit.com</a></div>]\n",
      "[<div class=\"keyword\"><a class=\"goto-keyword\" href=\"/keyword/overview?query=best%20stock%20charts\">best stock charts</a></div>, <div class=\"link\"><a href=\"http://reddit.com\" target=\"_blank\" title=\"reddit.com\"><i class=\"fa fa-external-link\"></i> </a><a class=\"goto-url\" href=\"/overview/url?query=reddit.com\">reddit.com</a></div>]\n",
      "[<div class=\"keyword\"><a class=\"goto-keyword\" href=\"/keyword/overview?query=download%20stock%20data\">download stock data</a></div>, <div class=\"link\"><a href=\"http://reddit.com\" target=\"_blank\" title=\"reddit.com\"><i class=\"fa fa-external-link\"></i> </a><a class=\"goto-url\" href=\"/overview/url?query=reddit.com\">reddit.com</a></div>]\n",
      "[<a class=\"throttled\" href=\"/login\">login to see all results</a>]\n",
      "[<a class=\"throttled\" href=\"/login\">login to see all results</a>]\n",
      "[<a class=\"throttled\" href=\"/login\">login to see all results</a>]\n",
      "[<a class=\"throttled\" href=\"/login\">login to see all results</a>]\n",
      "[<a class=\"throttled\" href=\"/login\">login to see all results</a>]\n",
      "[<a class=\"throttled\" href=\"/login\">login to see all results</a>]\n",
      "[<a class=\"throttled\" href=\"/login\">login to see all results</a>]\n",
      "[<a class=\"throttled\" href=\"/login\">login to see all results</a>]\n",
      "[<a class=\"throttled\" href=\"/login\">login to see all results</a>]\n",
      "[<a class=\"throttled\" href=\"/login\">login to see all results</a>]\n",
      "[<a class=\"throttled\" href=\"/login\">login to see all results</a>]\n",
      "[<a class=\"throttled\" href=\"/login\">login to see all results</a>]\n",
      "[<a class=\"throttled\" href=\"/login\">login to see all results</a>]\n",
      "[<a class=\"throttled\" href=\"/login\">login to see all results</a>]\n",
      "[<a class=\"throttled\" href=\"/login\">login to see all results</a>]\n",
      "[<a class=\"throttled\" href=\"/login\">login to see all results</a>]\n",
      "[<a class=\"throttled\" href=\"/login\">login to see all results</a>]\n",
      "[<a class=\"throttled\" href=\"/login\">login to see all results</a>]\n",
      "[<a class=\"throttled\" href=\"/login\">login to see all results</a>]\n",
      "[<a class=\"throttled\" href=\"/login\">login to see all results</a>]\n",
      "[<a class=\"throttled\" href=\"/login\">login to see all results</a>]\n",
      "[<a class=\"throttled\" href=\"/login\">login to see all results</a>]\n",
      "[<a class=\"throttled\" href=\"/login\">login to see all results</a>]\n",
      "[<a class=\"throttled\" href=\"/login\">login to see all results</a>]\n",
      "[<a class=\"throttled\" href=\"/login\">login to see all results</a>]\n",
      "[<a class=\"throttled\" href=\"/login\">login to see all results</a>]\n",
      "[<a class=\"throttled\" href=\"/login\">login to see all results</a>]\n",
      "[<a class=\"throttled\" href=\"/login\">login to see all results</a>]\n",
      "[<a class=\"throttled\" href=\"/login\">login to see all results</a>]\n",
      "[<a class=\"throttled\" href=\"/login\">login to see all results</a>]\n",
      "[<a class=\"throttled\" href=\"/login\">login to see all results</a>]\n",
      "[<a class=\"throttled\" href=\"/login\">login to see all results</a>]\n",
      "[<a class=\"throttled\" href=\"/login\">login to see all results</a>]\n",
      "[<a class=\"throttled\" href=\"/login\">login to see all results</a>]\n",
      "[<a class=\"throttled\" href=\"/login\">login to see all results</a>]\n",
      "[<a class=\"throttled\" href=\"/login\">login to see all results</a>]\n",
      "[<a class=\"throttled\" href=\"/login\">login to see all results</a>]\n",
      "[<a class=\"throttled\" href=\"/login\">login to see all results</a>]\n",
      "[<a class=\"throttled\" href=\"/login\">login to see all results</a>]\n",
      "[<a class=\"throttled\" href=\"/login\">login to see all results</a>]\n",
      "[<a class=\"throttled\" href=\"/login\">login to see all results</a>]\n",
      "[<a class=\"throttled\" href=\"/login\">login to see all results</a>]\n",
      "[<a class=\"throttled\" href=\"/login\">login to see all results</a>]\n",
      "[<a class=\"throttled\" href=\"/login\">login to see all results</a>]\n",
      "[<a class=\"throttled\" href=\"/login\">login to see all results</a>]\n",
      "[<a class=\"throttled\" href=\"/login\">login to see all results</a>]\n",
      "[<a class=\"throttled\" href=\"/login\">login to see all results</a>]\n",
      "[<a class=\"throttled\" href=\"/login\">login to see all results</a>]\n",
      "[<a class=\"throttled\" href=\"/login\">login to see all results</a>]\n",
      "[<a class=\"throttled\" href=\"/login\">login to see all results</a>]\n",
      "[<a class=\"throttled\" href=\"/login\">login to see all results</a>]\n",
      "[<a class=\"throttled\" href=\"/login\">login to see all results</a>]\n",
      "[<a class=\"throttled\" href=\"/login\">login to see all results</a>]\n",
      "[<a class=\"throttled\" href=\"/login\">login to see all results</a>]\n",
      "[<a class=\"throttled\" href=\"/login\">login to see all results</a>]\n",
      "[<a class=\"throttled\" href=\"/login\">login to see all results</a>]\n",
      "[<a class=\"throttled\" href=\"/login\">login to see all results</a>]\n",
      "[<a class=\"throttled\" href=\"/login\">login to see all results</a>]\n",
      "[<a class=\"throttled\" href=\"/login\">login to see all results</a>]\n",
      "[<a class=\"throttled\" href=\"/login\">login to see all results</a>]\n",
      "[<a class=\"throttled\" href=\"/login\">login to see all results</a>]\n",
      "[<a class=\"throttled\" href=\"/login\">login to see all results</a>]\n",
      "[<a class=\"throttled\" href=\"/login\">login to see all results</a>]\n",
      "[<a class=\"throttled\" href=\"/login\">login to see all results</a>]\n",
      "[<a class=\"throttled\" href=\"/login\">login to see all results</a>]\n",
      "[<a class=\"throttled\" href=\"/login\">login to see all results</a>]\n",
      "[<a class=\"throttled\" href=\"/login\">login to see all results</a>]\n",
      "[<a class=\"throttled\" href=\"/login\">login to see all results</a>]\n",
      "[<a class=\"throttled\" href=\"/login\">login to see all results</a>]\n",
      "[<a class=\"throttled\" href=\"/login\">login to see all results</a>]\n",
      "[<a class=\"throttled\" href=\"/login\">login to see all results</a>]\n",
      "[<a class=\"throttled\" href=\"/login\">login to see all results</a>]\n",
      "[<a class=\"throttled\" href=\"/login\">login to see all results</a>]\n",
      "[<a class=\"throttled\" href=\"/login\">login to see all results</a>]\n",
      "[<a class=\"throttled\" href=\"/login\">login to see all results</a>]\n",
      "[<a class=\"throttled\" href=\"/login\">login to see all results</a>]\n",
      "[<a class=\"throttled\" href=\"/login\">login to see all results</a>]\n",
      "[<a class=\"throttled\" href=\"/login\">login to see all results</a>]\n",
      "[<a class=\"throttled\" href=\"/login\">login to see all results</a>]\n",
      "[<a class=\"throttled\" href=\"/login\">login to see all results</a>]\n",
      "[<a class=\"throttled\" href=\"/login\">login to see all results</a>]\n",
      "[<a class=\"throttled\" href=\"/login\">login to see all results</a>]\n",
      "[<a class=\"throttled\" href=\"/login\">login to see all results</a>]\n",
      "[<a class=\"throttled\" href=\"/login\">login to see all results</a>]\n",
      "[<a class=\"throttled\" href=\"/login\">login to see all results</a>]\n",
      "[<a class=\"throttled\" href=\"/login\">login to see all results</a>]\n",
      "[<a class=\"throttled\" href=\"/login\">login to see all results</a>]\n",
      "[<a class=\"throttled\" href=\"/login\">login to see all results</a>]\n",
      "[<a class=\"throttled\" href=\"/login\">login to see all results</a>]\n",
      "[<a class=\"throttled\" href=\"/login\">login to see all results</a>]\n",
      "[<a class=\"throttled\" href=\"/login\">login to see all results</a>]\n",
      "[<a class=\"throttled\" href=\"/login\">login to see all results</a>]\n",
      "[<a class=\"throttled\" href=\"/login\">login to see all results</a>]\n",
      "[<a class=\"throttled\" href=\"/login\">login to see all results</a>]\n",
      "[<a class=\"throttled\" href=\"/login\">login to see all results</a>]\n",
      "[<a class=\"throttled\" href=\"/login\">login to see all results</a>]\n",
      "[<a class=\"throttled\" href=\"/login\">login to see all results</a>]\n",
      "[<a class=\"throttled\" href=\"/login\">login to see all results</a>]\n",
      "[<a class=\"throttled\" href=\"/login\">login to see all results</a>]\n",
      "[<a class=\"throttled\" href=\"/login\">login to see all results</a>]\n",
      "[<a class=\"throttled\" href=\"/login\">login to see all results</a>]\n",
      "[<a class=\"throttled\" href=\"/login\">login to see all results</a>]\n",
      "[<a class=\"throttled\" href=\"/login\">login to see all results</a>]\n",
      "[<a class=\"throttled\" href=\"/login\">login to see all results</a>]\n",
      "[<a class=\"throttled\" href=\"/login\">login to see all results</a>]\n",
      "[<a class=\"throttled\" href=\"/login\">login to see all results</a>]\n",
      "[<a class=\"throttled\" href=\"/login\">login to see all results</a>]\n",
      "[<a class=\"throttled\" href=\"/login\">login to see all results</a>]\n",
      "[<a class=\"throttled\" href=\"/login\">login to see all results</a>]\n",
      "[<a class=\"throttled\" href=\"/login\">login to see all results</a>]\n",
      "[<a class=\"throttled\" href=\"/login\">login to see all results</a>]\n",
      "[<a class=\"throttled\" href=\"/login\">login to see all results</a>]\n",
      "[<a class=\"throttled\" href=\"/login\">login to see all results</a>]\n",
      "[<a class=\"throttled\" href=\"/login\">login to see all results</a>]\n",
      "[<a class=\"throttled\" href=\"/login\">login to see all results</a>]\n",
      "[<a class=\"throttled\" href=\"/login\">login to see all results</a>]\n",
      "[<a class=\"throttled\" href=\"/login\">login to see all results</a>]\n",
      "[<a class=\"throttled\" href=\"/login\">login to see all results</a>]\n",
      "[<a class=\"throttled\" href=\"/login\">login to see all results</a>]\n",
      "[<a class=\"throttled\" href=\"/login\">login to see all results</a>]\n",
      "[<a class=\"throttled\" href=\"/login\">login to see all results</a>]\n",
      "[<a class=\"throttled\" href=\"/login\">login to see all results</a>]\n",
      "[<a class=\"throttled\" href=\"/login\">login to see all results</a>]\n",
      "[<a class=\"throttled\" href=\"/login\">login to see all results</a>]\n",
      "[<a class=\"throttled\" href=\"/login\">login to see all results</a>]\n",
      "[<a class=\"throttled\" href=\"/login\">login to see all results</a>]\n",
      "[<a class=\"throttled\" href=\"/login\">login to see all results</a>]\n",
      "[<a class=\"throttled\" href=\"/login\">login to see all results</a>]\n",
      "[<a class=\"throttled\" href=\"/login\">login to see all results</a>]\n",
      "[<a class=\"throttled\" href=\"/login\">login to see all results</a>]\n",
      "[<a class=\"throttled\" href=\"/login\">login to see all results</a>]\n",
      "[<a class=\"throttled\" href=\"/login\">login to see all results</a>]\n",
      "[<a class=\"throttled\" href=\"/login\">login to see all results</a>]\n",
      "[<a class=\"throttled\" href=\"/login\">login to see all results</a>]\n",
      "[<a class=\"throttled\" href=\"/login\">login to see all results</a>]\n",
      "[<a class=\"throttled\" href=\"/login\">login to see all results</a>]\n",
      "[<a class=\"throttled\" href=\"/login\">login to see all results</a>]\n",
      "[<a class=\"throttled\" href=\"/login\">login to see all results</a>]\n",
      "[<a class=\"throttled\" href=\"/login\">login to see all results</a>]\n",
      "[<a class=\"throttled\" href=\"/login\">login to see all results</a>]\n",
      "[<a class=\"throttled\" href=\"/login\">login to see all results</a>]\n",
      "[<a class=\"throttled\" href=\"/login\">login to see all results</a>]\n",
      "[<a class=\"throttled\" href=\"/login\">login to see all results</a>]\n",
      "[<a class=\"throttled\" href=\"/login\">login to see all results</a>]\n",
      "[<a class=\"throttled\" href=\"/login\">login to see all results</a>]\n",
      "[<a class=\"throttled\" href=\"/login\">login to see all results</a>]\n",
      "[<a class=\"throttled\" href=\"/login\">login to see all results</a>]\n",
      "[<a class=\"throttled\" href=\"/login\">login to see all results</a>]\n",
      "[<a class=\"throttled\" href=\"/login\">login to see all results</a>]\n",
      "[<a class=\"throttled\" href=\"/login\">login to see all results</a>]\n",
      "[<a class=\"throttled\" href=\"/login\">login to see all results</a>]\n",
      "[<a class=\"throttled\" href=\"/login\">login to see all results</a>]\n",
      "[<a class=\"throttled\" href=\"/login\">login to see all results</a>]\n",
      "[<a class=\"throttled\" href=\"/login\">login to see all results</a>]\n",
      "[<a class=\"throttled\" href=\"/login\">login to see all results</a>]\n",
      "[<a class=\"throttled\" href=\"/login\">login to see all results</a>]\n",
      "[<a class=\"throttled\" href=\"/login\">login to see all results</a>]\n",
      "[<a class=\"throttled\" href=\"/login\">login to see all results</a>]\n",
      "[<a class=\"throttled\" href=\"/login\">login to see all results</a>]\n",
      "[<a class=\"throttled\" href=\"/login\">login to see all results</a>]\n",
      "[<a class=\"throttled\" href=\"/login\">login to see all results</a>]\n",
      "[<a class=\"throttled\" href=\"/login\">login to see all results</a>]\n",
      "[<a class=\"throttled\" href=\"/login\">login to see all results</a>]\n",
      "[<a class=\"throttled\" href=\"/login\">login to see all results</a>]\n",
      "[<a class=\"throttled\" href=\"/login\">login to see all results</a>]\n",
      "[<a class=\"throttled\" href=\"/login\">login to see all results</a>]\n",
      "[<a class=\"throttled\" href=\"/login\">login to see all results</a>]\n",
      "[<a class=\"throttled\" href=\"/login\">login to see all results</a>]\n",
      "[<a class=\"throttled\" href=\"/login\">login to see all results</a>]\n",
      "[<a class=\"throttled\" href=\"/login\">login to see all results</a>]\n",
      "[<a class=\"throttled\" href=\"/login\">login to see all results</a>]\n",
      "[<a class=\"throttled\" href=\"/login\">login to see all results</a>]\n",
      "[<a class=\"throttled\" href=\"/login\">login to see all results</a>]\n",
      "[<a class=\"throttled\" href=\"/login\">login to see all results</a>]\n",
      "[<a class=\"throttled\" href=\"/login\">login to see all results</a>]\n",
      "[<a class=\"throttled\" href=\"/login\">login to see all results</a>]\n",
      "[<a class=\"throttled\" href=\"/login\">login to see all results</a>]\n",
      "[<a class=\"throttled\" href=\"/login\">login to see all results</a>]\n",
      "[<a class=\"throttled\" href=\"/login\">login to see all results</a>]\n",
      "[<a class=\"throttled\" href=\"/login\">login to see all results</a>]\n",
      "[<a class=\"throttled\" href=\"/login\">login to see all results</a>]\n",
      "[<a class=\"throttled\" href=\"/login\">login to see all results</a>]\n",
      "[<a class=\"throttled\" href=\"/login\">login to see all results</a>]\n",
      "[<a class=\"throttled\" href=\"/login\">login to see all results</a>]\n",
      "[<a class=\"throttled\" href=\"/login\">login to see all results</a>]\n",
      "[<a class=\"throttled\" href=\"/login\">login to see all results</a>]\n",
      "[<a class=\"throttled\" href=\"/login\">login to see all results</a>]\n",
      "[<a class=\"throttled\" href=\"/login\">login to see all results</a>]\n",
      "[<a class=\"throttled\" href=\"/login\">login to see all results</a>]\n",
      "[<a class=\"throttled\" href=\"/login\">login to see all results</a>]\n",
      "[<a class=\"throttled\" href=\"/login\">login to see all results</a>]\n",
      "[<a class=\"throttled\" href=\"/login\">login to see all results</a>]\n",
      "[<a class=\"throttled\" href=\"/login\">login to see all results</a>]\n",
      "[<a class=\"throttled\" href=\"/login\">login to see all results</a>]\n",
      "[<a class=\"throttled\" href=\"/login\">login to see all results</a>]\n",
      "[<a class=\"throttled\" href=\"/login\">login to see all results</a>]\n",
      "[<a class=\"throttled\" href=\"/login\">login to see all results</a>]\n",
      "[<a class=\"throttled\" href=\"/login\">login to see all results</a>]\n",
      "[<a class=\"throttled\" href=\"/login\">login to see all results</a>]\n",
      "[<a class=\"throttled\" href=\"/login\">login to see all results</a>]\n",
      "[<a class=\"throttled\" href=\"/login\">login to see all results</a>]\n",
      "[<a class=\"throttled\" href=\"/login\">login to see all results</a>]\n",
      "[<a class=\"throttled\" href=\"/login\">login to see all results</a>]\n",
      "[<a class=\"throttled\" href=\"/login\">login to see all results</a>]\n"
     ]
    }
   ],
   "source": []
  }
 ],
 "metadata": {
  "kernelspec": {
   "display_name": "Python 3",
   "language": "python",
   "name": "python3"
  },
  "language_info": {
   "codemirror_mode": {
    "name": "ipython",
    "version": 3
   },
   "file_extension": ".py",
   "mimetype": "text/x-python",
   "name": "python",
   "nbconvert_exporter": "python",
   "pygments_lexer": "ipython3",
   "version": "3.6.3"
  }
 },
 "nbformat": 4,
 "nbformat_minor": 2
}
