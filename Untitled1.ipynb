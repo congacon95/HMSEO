{
 "cells": [
  {
   "cell_type": "code",
   "execution_count": 1,
   "metadata": {},
   "outputs": [
    {
     "name": "stdout",
     "output_type": "stream",
     "text": [
      "> Loaded module:ptl.get\n",
      "> PLATFORM:\twin32\n",
      "> DEBUG:\tTrue\n",
      "> LIB_PATH:\tE:\\work\\jupyter_notebook\\work\\20171104\\ptl\\\n",
      "> ROOT_PATH:\tE:\\work\\jupyter_notebook\\work\\20171104\n",
      "> START_TIME:\t20171104_1203\n"
     ]
    }
   ],
   "source": [
    "from ptl import get\n",
    "get.setup(debug=True, new_driver=False)"
   ]
  },
  {
   "cell_type": "code",
   "execution_count": null,
   "metadata": {
    "collapsed": true
   },
   "outputs": [],
   "source": []
  },
  {
   "cell_type": "code",
   "execution_count": null,
   "metadata": {},
   "outputs": [
    {
     "name": "stdout",
     "output_type": "stream",
     "text": [
      "> Iteration: 0, stack size: 1\n",
      "> Downloaded:0\n",
      "> Started multi threading:\t20171104_1204\n",
      "> Number of threads:      \t1\n",
      "> Finished multi threading:\t20171104_1204\n",
      "> Downloaded data\n",
      "> New links: 33\n",
      "> Iteration: 1, stack size: 32\n",
      "> Downloaded:1\n",
      "> Started multi threading:\t20171104_1204\n",
      "> Number of threads:      \t3\n",
      "> Finished multi threading:\t20171104_1204\n",
      "> Downloaded data\n",
      "> New links: 964\n",
      "> Iteration: 2, stack size: 223\n",
      "> Downloaded:27\n",
      "> Started multi threading:\t20171104_1204\n",
      "> Number of threads:      \t3\n",
      "> Finished multi threading:\t20171104_1207\n",
      "> Downloaded data\n",
      "> New links: 6832\n",
      "> Iteration: 3, stack size: 898\n",
      "> Downloaded:217\n",
      "> Started multi threading:\t20171104_1207\n",
      "> Number of threads:      \t3\n",
      "> Finished multi threading:\t20171104_1215\n",
      "> Downloaded data\n",
      "> New links: 23128\n",
      "> Iteration: 4, stack size: 3381\n",
      "> Downloaded:825\n",
      "> Started multi threading:\t20171104_1215\n",
      "> Number of threads:      \t3\n",
      "> Get https://ukuleleunderground.com/april-contest-entries/ failed 1 times\n",
      "> Get https://ukuleleunderground.com/april-contest-entries/ failed 2 times\n",
      "> Get https://ukuleleunderground.com/april-contest-entries/ failed 3 times\n",
      "> Get https://ukuleleunderground.com/april-contest-entries/ failed 4 times\n",
      "> Get https://ukuleleunderground.com/april-contest-entries/ failed 5 times\n",
      "> TypeError at line 255: if get: return bs(source, 'html.parser') => object of type 'NoneType' has no len()\n",
      "> Get https://ukuleleunderground.com/k-town-heroes-eat-sleep-music-sessions/ failed 1 times\n",
      "> Get https://ukuleleunderground.com/k-town-heroes-eat-sleep-music-sessions/ failed 2 times\n",
      "> Get https://ukuleleunderground.com/k-town-heroes-eat-sleep-music-sessions/ failed 3 times\n",
      "> Get https://ukuleleunderground.com/k-town-heroes-eat-sleep-music-sessions/ failed 4 times\n",
      "> Get https://ukuleleunderground.com/k-town-heroes-eat-sleep-music-sessions/ failed 5 times\n",
      "> TypeError at line 255: if get: return bs(source, 'html.parser') => object of type 'NoneType' has no len()\n",
      "> Get https://ukuleleunderground.com/uu-live-lessons/ rel= failed 1 times\n",
      "> Get https://ukuleleunderground.com/uu-live-lessons/ rel= failed 2 times\n",
      "> Get https://ukuleleunderground.com/uu-live-lessons/ rel= failed 3 times\n",
      "> Get https://ukuleleunderground.com/uu-live-lessons/ rel= failed 4 times\n",
      "> Get https://ukuleleunderground.com/uu-live-lessons/ rel= failed 5 times\n",
      "> TypeError at line 255: if get: return bs(source, 'html.parser') => object of type 'NoneType' has no len()\n",
      "> Finished multi threading:\t20171104_1236\n",
      "> Downloaded data\n",
      "> New links: 73590\n",
      "> Iteration: 5, stack size: 1458\n",
      "> Downloaded:1866\n",
      "> Started multi threading:\t20171104_1236\n",
      "> Number of threads:      \t2\n"
     ]
    },
    {
     "name": "stderr",
     "output_type": "stream",
     "text": [
      "Some characters could not be decoded, and were replaced with REPLACEMENT CHARACTER.\n",
      "Some characters could not be decoded, and were replaced with REPLACEMENT CHARACTER.\n"
     ]
    },
    {
     "name": "stdout",
     "output_type": "stream",
     "text": [
      "> Finished multi threading:\t20171104_1251\n",
      "> Downloaded data\n",
      "> New links: 27972\n",
      "> Iteration: 6, stack size: 1425\n",
      "> Downloaded:2397\n",
      "> Started multi threading:\t20171104_1251\n",
      "> Number of threads:      \t2\n"
     ]
    },
    {
     "name": "stderr",
     "output_type": "stream",
     "text": [
      "Some characters could not be decoded, and were replaced with REPLACEMENT CHARACTER.\n"
     ]
    },
    {
     "name": "stdout",
     "output_type": "stream",
     "text": [
      "> Get https://ukuleleunderground.com/2008/07/uke-minutes-20-pinky-mute/ rel= failed 1 times\n",
      "> Get https://ukuleleunderground.com/2008/07/uke-minutes-20-pinky-mute/ rel= failed 2 times\n",
      "> Get https://ukuleleunderground.com/2008/07/uke-minutes-20-pinky-mute/ rel= failed 3 times\n",
      "> Get https://ukuleleunderground.com/2008/07/uke-minutes-20-pinky-mute/ rel= failed 4 times\n",
      "> Get https://ukuleleunderground.com/2008/07/uke-minutes-20-pinky-mute/ rel= failed 5 times\n",
      "> TypeError at line 255: if get: return bs(source, 'html.parser') => object of type 'NoneType' has no len()\n"
     ]
    },
    {
     "name": "stderr",
     "output_type": "stream",
     "text": [
      "Some characters could not be decoded, and were replaced with REPLACEMENT CHARACTER.\n"
     ]
    }
   ],
   "source": [
    "def distinct(alist):\n",
    "    return list(dict.fromkeys(alist))\n",
    "url='https://ukuleleunderground.com/'\n",
    "VISISTED=[]\n",
    "STACK=[url]\n",
    "N_THREADS= 5\n",
    "THRESHOLD= 3 \n",
    "DOWNLOADED=[]\n",
    "iteration=0\n",
    "while len(STACK)!=0:\n",
    "    get.log('> Iteration: '+str(iteration)+', stack size: '+str(len(STACK)))\n",
    "    get.log('> Downloaded:'+str(len(DOWNLOADED)))\n",
    "    stack=[{'URL':url} for url in STACK \n",
    "           if '.pdf' not in url\n",
    "           and '?' not in url\n",
    "           and '/members/' not in url]\n",
    "    #print('> test'+str(get.split(STACK, N_THREADS)))\n",
    "    if len(stack)/N_THREADS > THRESHOLD:\n",
    "        N_THREADS=get.ceil(len(stack)/THRESHOLD)\n",
    "    get.run_threads(get.split(stack, N_THREADS), get.soups, folder='nodriver')\n",
    "    get.log('> Downloaded data')\n",
    "    VISISTED=VISISTED+STACK\n",
    "    new_links=[]\n",
    "    for item in stack:\n",
    "        if item['SOUP']:\n",
    "            item['a']=[a for a in get.bes(None, div='a', parent=item['SOUP']) if 'href' in str(a)]\n",
    "            links=[a['href'] for a in item['a'] if len(a['href'])> 3 and get.dmr(url) in a['href']]\n",
    "            new_links=new_links+distinct(links)\n",
    "    get.log('> New links: '+str(len(new_links)))\n",
    "    DOWNLOADED=DOWNLOADED+stack\n",
    "    STACK = list(set(new_links)-set(new_links).intersection(set(VISISTED)))\n",
    "    iteration+=1\n",
    "    if len(DOWNLOADED)>5000: break"
   ]
  }
 ],
 "metadata": {
  "kernelspec": {
   "display_name": "Python 3",
   "language": "python",
   "name": "python3"
  },
  "language_info": {
   "codemirror_mode": {
    "name": "ipython",
    "version": 3
   },
   "file_extension": ".py",
   "mimetype": "text/x-python",
   "name": "python",
   "nbconvert_exporter": "python",
   "pygments_lexer": "ipython3",
   "version": "3.6.2"
  }
 },
 "nbformat": 4,
 "nbformat_minor": 2
}
