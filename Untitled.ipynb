{
 "cells": [
  {
   "cell_type": "code",
   "execution_count": null,
   "metadata": {},
   "outputs": [],
   "source": [
    "from ptl import get"
   ]
  },
  {
   "cell_type": "code",
   "execution_count": null,
   "metadata": {},
   "outputs": [],
   "source": [
    "try:\n",
    "    print(1)\n",
    "except: get.pe()"
   ]
  },
  {
   "cell_type": "code",
   "execution_count": null,
   "metadata": {},
   "outputs": [],
   "source": [
    "string = '%@$312@%@!#@$%'\n",
    "string=string.replace('$', '') if '$' in string else string\n",
    "string"
   ]
  },
  {
   "cell_type": "code",
   "execution_count": null,
   "metadata": {},
   "outputs": [],
   "source": [
    "\n",
    "def make_request(url):     \n",
    "    return requests.get(url, timeout=TIME_OUT) if not USE_PROXIES \n",
    "else requests.get(url, timeout=TIME_OUT, proxies=rand_proxy())"
   ]
  },
  {
   "cell_type": "code",
   "execution_count": null,
   "metadata": {},
   "outputs": [],
   "source": [
    "if '200' in str(string): print('asd')"
   ]
  },
  {
   "cell_type": "code",
   "execution_count": null,
   "metadata": {},
   "outputs": [],
   "source": [
    "#REGION: IMPORT MODULES\n",
    "import requests\n",
    "from bs4 import BeautifulSoup as bs\n",
    "import string\n",
    "import os, sys\n",
    "import pandas\n",
    "import time, datetime\n",
    "import threading\n",
    "from math import ceil\n",
    "import smtplib\n",
    "#import gc\n",
    "#gc.enable()\n",
    "from selenium import webdriver\n",
    "from selenium.webdriver.support.ui import WebDriverWait\n",
    "from selenium.webdriver.common.by import By\n",
    "from selenium.webdriver.support import expected_conditions as EC\n",
    "from selenium.webdriver.chrome.options import Options  \n",
    "\n",
    "if sys.platform=='win32' or sys.platform=='win64':\n",
    "    IS_WINDOWS=True\n",
    "else:\n",
    "    IS_WINDOWS=False\n",
    "    from xvfbwrapper import Xvfb\n",
    "\n",
    "#REGION: GLOBAL FIELDS\n",
    "ERRORS=[]\n",
    "LOGS=[]\n",
    "START_TIME=''\n",
    "ROOT_PATH=''\n",
    "SCRIPT_PATH=''\n",
    "PROXIES=[]\n",
    "PROXY_TYPE='http'\n",
    "USE_PROXIES=False\n",
    "TIME_OUT=60\n",
    "DEBUG=False\n",
    "N_DRIVERS=15\n",
    "DR=None\n",
    "VDP=None\n",
    "WDW=None\n",
    "WDW_DELAY=30\n",
    "ENCODING='utf8'\n",
    "XLSX='.xlsx'\n",
    "CSV='.csv'\n",
    "#REGION: FUNCTION DEFENITION\n",
    "#HELPER METHODS\n",
    "def exception_string():\n",
    "    _type, _obj, _tb=sys.exc_info()\n",
    "    return '> '+str(_type.__name__)+' at line '+str(_tb.tb_lineno)+': '+str(_obj)\n",
    "exc=exception_string\n",
    "def print_exception(message=None):\n",
    "    '''get exception line number, type and obj'''\n",
    "    error=exc()\n",
    "    if message: error+=', '+message\n",
    "    ERRORS.append(error)\n",
    "    log(error)\n",
    "pe=print_exception\n",
    "def log(text):\n",
    "    LOGS.append(text)\n",
    "    print(text)\n",
    "def format_integer(i, length=2):\n",
    "    # given a number and return a string represent it\n",
    "    # i.e: fi(25, 4) -> \"0025\"\n",
    "    s=str(i)\n",
    "    while len(s) < length: s='0'+s\n",
    "    return s\n",
    "fi=format_integer\n",
    "def date_now():\n",
    "    # get date.\n",
    "    # i.e: () -> \"20171024\"\n",
    "    return time.strftime(\"%Y%m%d\")\n",
    "dn=date_now\n",
    "def time_now():\n",
    "    # get time.\n",
    "    # i.e: () -> \"2230\"            \n",
    "    return time.strftime(\"%H%M\")\n",
    "tn=time_now\n",
    "def date_time_now():\n",
    "    return time.strftime(\"%Y%m%d_%H%M\")\n",
    "dtn=date_time_now\n",
    "def domain_root(url):\n",
    "    return url[0:url[8:].index('/')+8]\n",
    "dmr=domain_root\n",
    "def domain_name(url):\n",
    "    t=url.split('//')[1].split('/')[0].split('.')\n",
    "    return t[-2] if t[-2]!='com' else t[-3]\n",
    "dmn=domain_name\n",
    "def format_name(row, name):\n",
    "    name=name.split(',')[0]    \n",
    "    row['Full Name']=name\n",
    "    row['First Name']=name.split()[0]\n",
    "    row['Last Name']=name.split()[-1]\n",
    "    row['Middle Name']=' '.join(name.split()[1:-1])\n",
    "fn=format_name\n",
    "def ftext(e):    \n",
    "    return e.text.strip() if e else ''\n",
    "ft=ftext\n",
    "def format_phone(text):\n",
    "    if not text: return ''                \n",
    "    for c in ['\\t', '\\n', ' ', '.', 'P', 'T', 'F', ':']:\n",
    "        text=text.replace(c, '')\n",
    "    return text\n",
    "fp=format_phone\n",
    "_CASES=[{'char':'k', 'val':1000},\n",
    "        {'char':'m', 'val':1000000}, \n",
    "        {'char':'b', 'val':1000000000}, \n",
    "        {'char':'g', 'val':1000000000000}, ]\n",
    "def convert(string):\n",
    "    if string.isdigit(): return int(string)\n",
    "    if '$' in string: string=string.replace('$', '')\n",
    "    if len(string)==0 or not string[0].isdigit(): return -1\n",
    "    string=string.replace(',','').lower()\n",
    "    for case in _CASES:\n",
    "        if case['char'] in string:\n",
    "            string=string.split(case['char'])[0]\n",
    "            return float(string)*case['val']\n",
    "    return float(string)\n",
    "def save_logs(source):\n",
    "    global LOGS, ERRORS\n",
    "    log('> '+date_time_now()+' : Save logs from '+source)\n",
    "    save(LOGS, 'logs/'+START_TIME+'/'+source+'_LOGS')\n",
    "    LOGS=[]\n",
    "    save(ERRORS, 'logs/'+START_TIME+'/'+source+'_ERRORS')\n",
    "    ERRORS=[]\n",
    "def quit():\n",
    "    save_logs('quit()')\n",
    "    driver_close()\n",
    "\n",
    "#MAKE REQUESTS\n",
    "def load_proxies(path):\n",
    "    USE_PROXIES=True\n",
    "    pass\n",
    "lpx=load_proxies\n",
    "def rand_proxy():\n",
    "    return PROXIES[random.randint(0, len(PROXIES)-1)]\n",
    "rpx=rand_proxy\n",
    "def rand_proxy_dict():    \n",
    "    proxy=PROXY_TYPE+\"://\"+proxy\n",
    "    return { PROXY_TYPE : rand_proxy()}\n",
    "rpd=rand_proxy_dict\n",
    "def make_request(url):        \n",
    "    if USE_PROXIES:\n",
    "        return requests.get(url, timeout=TIME_OUT, proxies=rpd())\n",
    "    else:\n",
    "        return requests.get(url, timeout=TIME_OUT)\n",
    "mr=make_request\n",
    "def request_content(url):\n",
    "    # give a url and request its content, try atleast 5 times if false.\n",
    "    try:    return make_request(url).content\n",
    "    except: pe()\n",
    "    for i in range(1, 6):\n",
    "        log('> Get '+url+' failed '+str(i)+' times')\n",
    "        time.sleep(1)\n",
    "        try: return make_request(url).content\n",
    "        except: pe()\n",
    "rct=request_content\n",
    "#FILE IO\n",
    "def isdir(path):\n",
    "    # check if folder exist, if not create it.\n",
    "    folders=path.split('/')\n",
    "    path=''\n",
    "    for folder in folders[:-1]:\n",
    "        path +=folder+'\\\\'\n",
    "        if os.path.isdir(path): continue\n",
    "        log('> Create folder : '+ROOT_PATH+'\\\\'+path)\n",
    "        os.mkdir(os.path.dirname(ROOT_PATH+'\\\\'+path))\n",
    "def save(data, path, drop=[]):\n",
    "    # save a list or dataframe as csv and xlsx file\n",
    "    isdir(path)\n",
    "    if type(data) is list: data=pandas.DataFrame(data)\n",
    "    data=data.reset_index(drop=True)\n",
    "    columns=data.columns\n",
    "    if len(drop)>0:\n",
    "        columns=columns.drop(drop)\n",
    "        data.to_excel(path+XLSX, encoding=ENCODING, index=False, columns=columns)\n",
    "        data.to_csv(path+CSV, encoding=ENCODING, index=False, columns=columns)\n",
    "    else:\n",
    "        data.to_excel(path+XLSX, encoding=ENCODING, index=False)\n",
    "        data.to_csv(path+CSV, encoding=ENCODING, index=False)\n",
    "def fast_save(data, path):\n",
    "    _df=pandas.DataFrame(data).reset_index(drop=True)\n",
    "    _df.to_excel(path+XLSX, encoding=ENCODING, index=False)\n",
    "    _df.to_csv(path+CSV, encoding=ENCODING, index=False)\n",
    "def dataframe(path):\n",
    "    # load file from path and return it as a dataframe.\n",
    "    if XLSX in path:\n",
    "        data=pandas.read_excel(open(path, 'rb'), encoding=ENCODING)\n",
    "    elif CSV in path:\n",
    "        data=pandas.DataFrame.from_csv(path, encoding=ENCODING)\n",
    "    return  data.reset_index()\n",
    "df=dataframe\n",
    "def read(folder):\n",
    "    # given a folder path that contain multiple file named [0,1,2,3...].csv\n",
    "    # load all the files into a dataframe and return it.\n",
    "    if folder[-1]!='/': folder+='/'\n",
    "    paths=os.listdir(folder)\n",
    "    data=pandas.DataFrame()\n",
    "    for path in paths:\n",
    "        try:    data=pandas.concat([data, dataframe(fpath)])\n",
    "        except: pe()\n",
    "    return  data.reset_index(drop=True)\n",
    "def split(data, size):   \n",
    "    # split the dataframe into multiple smaller size list      \n",
    "    if type(data) is not list:\n",
    "        rows=[]\n",
    "        for key, val in data.iterrows():\n",
    "            row={}\n",
    "            for k in val.keys():\n",
    "                row[k]=val[k]\n",
    "            rows.append(row)\n",
    "        data=rows\n",
    "    return  [data[i*size: (i+1)*size] for i in range(ceil(len(data)/ size))]\n",
    "\n",
    "#REGION: MULTI THREADING IMPLEMENTATION\n",
    "class thread(threading.Thread):\n",
    "    def __init__(self, threadID, links, func, path):\n",
    "        threading.Thread.__init__(self)\n",
    "        self.threadID=threadID\n",
    "        self.func=func\n",
    "        self.links=links\n",
    "        self.path=path\n",
    "    def run(self):\n",
    "        log('> Thread '+str(self.threadID)+' started with '+str(len(self.links))+' data entries.')\n",
    "        try:    self.func(self.links, self.path, self.threadID)\n",
    "        except: pe()\n",
    "        log('> Thread '+str(self.threadID)+' ended.')\n",
    "def run_threads(batches, func=None, path='', callback=None):\n",
    "    log('> Started multi threading:\\t'+date_time_now())\n",
    "    log('> Number of threads:    \\t'+str(len(batches)))\n",
    "    threads=[thread(i, batches[i], func, path) for i in range(len(batches))]\n",
    "    for t in threads: t.start()\n",
    "    for t in threads: t.join()\n",
    "    for t in threads: del t\n",
    "    log('> Finished multi threading:\\t'+date_time_now())\n",
    "    if callback: return callback(path)  \n",
    "#BEAUTIFUL SOUP\n",
    "__SOUP__=''\n",
    "\n",
    "def soup(url, driver=None, delay=None, waits=None, waitv=None, get=False):\n",
    "    global __SOUP__\n",
    "    if driver:\n",
    "        driver.get(url)\n",
    "        if delay: time.sleep(delay)\n",
    "        if waits and waitv: wait(waits, waitv, driver)\n",
    "        source=driver.page_source\n",
    "    else:\n",
    "        source=request_content(url)\n",
    "    if get: return bs(source, 'html.parser').find('body')\n",
    "    __SOUP__=bs(source, 'html.parser').find('body')\n",
    "def soups(rows, path, _id):\n",
    "    try:\n",
    "        dr=driver() if path=='driver' else None\n",
    "        for row in rows:\n",
    "            try:    row['SOUP']=soup(row['URL'], dr, get=True)\n",
    "            except: pe()\n",
    "    except: pe()\n",
    "    if dr: dr.quit()\n",
    "def download_soups(batches, method='nodriver'):    \n",
    "    log('> Found '+str(len(batches))+' row entries')\n",
    "    log('> Download the data') \n",
    "    run_threads(split(batches, ceil(len(batches)/N_DRIVERS)), soups, path=method)\n",
    "\n",
    "def bs_elements(val, tag='div', selector='class', parent=None):\n",
    "    try:\n",
    "        target=parent if parent else __SOUP__\n",
    "        return target.findAll(tag,{selector:val})\n",
    "    except: pe()\n",
    "bes=bs_elements\n",
    "def bs_element(val, tag='div', selector='class', index=0, parent=None):\n",
    "    try:\n",
    "        _elements=bs_elements(val, tag, selector, parent)\n",
    "        if _elements and len(_elements)>0: return _elements[index]\n",
    "    except: pe()\n",
    "be=bs_element\n",
    "def bs_element_text(val, tag='div', selector='class', parent=None):\n",
    "    try:\n",
    "        target=parent if parent else __SOUP__\n",
    "        return ftext(target.find(tag,{selector:val}))\n",
    "    except: pe()\n",
    "bet=bs_element_text\n",
    "def bs_element_float(val, tag='div', selector='class', parent=None):\n",
    "    return convert(bs_element_text(val, tag, selector, parent))\n",
    "bef=bs_element_float\n",
    "def bs_element_phone(val, tag='div', selector='class', parent=None):\n",
    "    return format_phone(bs_element_text(val, tag, selector, parent))\n",
    "bep=bs_element_phone\n",
    "def bs_element_children(element):\n",
    "    return element.findAll(True, recursive=False)\n",
    "bec=bs_element_children     \n",
    "#SELENIUM\n",
    "def driver(user_agent=False, proxy=False, \n",
    "           no_sandbox=False, incognito=True, \n",
    "           extension=False, debug=False):\n",
    "    try:      \n",
    "        chrome_options=Options()\n",
    "        chrome_options.add_argument(\"--window-size=1920,1080\")\n",
    "        chrome_options.add_argument(\"--window-position=0,0\")\n",
    "\n",
    "        #We need this argument ortherwise it won't work on VPS\n",
    "        if no_sandbox: chrome_options.add_argument('--no-sandbox')\n",
    "        if type(proxy) is bool and proxy:\n",
    "            chrome_options.add_argument('--proxy-server='+rand_proxy())\n",
    "        else:\n",
    "            chrome_options.add_argument('--proxy-server='+proxy)\n",
    "        if user_agent: chrome_options.add_argument('--user-agent='+user_agent)\n",
    "        if not debug:  chrome_options.add_argument(\"--headless\")\n",
    "        #Open chrome under incognito mode\n",
    "        if extension:\n",
    "            chrome_options.add_extension(extension)\n",
    "        elif incognito:\n",
    "            chrome_options.add_argument(\"--incognito\")\n",
    "        wdr=webdriver.Chrome(SCRIPT_PATH+'chromedriver.exe', chrome_options=chrome_options)\n",
    "        wdr.set_window_size(1920, 1080)\n",
    "        wdr.set_window_position(0, 0)\n",
    "        return wdr\n",
    "    except: pe()\n",
    "dr=driver\n",
    "def driver_close():\n",
    "    global DR, VDP\n",
    "    try:\n",
    "        if DR: DR.quit()\n",
    "        if VDP: VDP.stop()\n",
    "    except: pe()\n",
    "dcl=driver_close\n",
    "def wait(selector, val, driver=None):\n",
    "    try:\n",
    "        log('> Wait for element:\\t'+selector+'='+val)\n",
    "        if selector=='class': selector=By.CLASS_NAME\n",
    "        elif selector=='id': selector=By.ID\n",
    "        elif selector=='name': selector=By.NAME\n",
    "        elif selector=='tag': selector=By.TAG_NAME\n",
    "        if not driver: driver=DR\n",
    "        WebDriverWait(driver, WDW_DELAY).until(EC.presence_of_element_located((selector, val)))\n",
    "    except: pe()\n",
    "def driver_site(url, driver=None):\n",
    "    try:\n",
    "        if 'http' not in url:            \n",
    "            if 'www.' not in url: url='www.'+url\n",
    "            url='http://'+url\n",
    "        else:\n",
    "            if 'www.' not in url:\n",
    "                _url=url.split('//')\n",
    "                url=_url[0]+'www.'+_url[1]\n",
    "        log('> Go to site: '+url)\n",
    "        if not driver: driver=DR\n",
    "        driver.get(url)\n",
    "    except: pe()\n",
    "site=driver_site\n",
    "def driver_elements(selector, val, driver=None):\n",
    "    try:\n",
    "        if not driver: driver=DR\n",
    "        wait(selector, val, driver=driver)\n",
    "        return driver.find_elements_by_xpath('//*[@'+selector+'=\\\"'+val+'\\\"]')\n",
    "    except: pe()\n",
    "    return  []\n",
    "des=driver_elements\n",
    "def driver_element(selector, val, index=0, driver=None):\n",
    "    try:\n",
    "        _elements=elements(selector, val, driver=driver)\n",
    "        if len(_elements)==0:\n",
    "            log('> No element:\\t\\t'+selector+'='+val)\n",
    "            return None\n",
    "        if len(_elements)-1 <index:\n",
    "            log('> Index out of bound:\\t'+selector+'='+val)\n",
    "            return None\n",
    "        return _elements[index]\n",
    "    except: pe() \n",
    "de=driver_element\n",
    "def driver_element_keys(selector, val, text, index=0, driver=None):\n",
    "    try:\n",
    "        _element=element(selector, val, index=index, driver=driver)\n",
    "        try:    _element.clear()\n",
    "        except: pe()\n",
    "        _element.send_keys(text)\n",
    "    except: pe()\n",
    "dsk=driver_element_keys\n",
    "def driver_element_click(selector, val, index=0, driver=None):\n",
    "    try:    element(selector, val, index=index, driver=driver).click()\n",
    "    except: pe()\n",
    "dec=driver_element_click\n",
    "def driver_option_click(selector, val, option_text, driver=None):\n",
    "    try:\n",
    "        if not driver: driver=DR\n",
    "        wait(selector, val, driver=driver)\n",
    "        xpath='//*[@'+selector+'=\"'+val+'\"]/option[text()=\"'+option_text+'\"]'\n",
    "        driver.find_element_by_xpath(xpath).click()\n",
    "    except: pe()\n",
    "doc=driver_option_click\n",
    "def driver_login(email, password,\n",
    "                 es='name', ev='email', eidx=0,\n",
    "                 ps='name', pv='pass', pidx=0,\n",
    "                 ss='type', sv='submit', sidx=0,\n",
    "                 driver=None):\n",
    "    # es, ev, eidx=        email selector, value, index\n",
    "    # ps, pv, pidx=     password selector, value, index\n",
    "    # ss, sv, sidx=submit button selector, value, index\n",
    "    try:\n",
    "        send_keys(es, ev, email, index=e_id, driver=driver)\n",
    "        send_keys(ps, pv, password, index=e_id, driver=driver)\n",
    "        click_element(ss, sv, index=s_id, driver=driver) \n",
    "        log('> Logged in.')\n",
    "    except: pe()\n",
    "login=driver_login\n",
    "def driver_option_click_js(select, ul_name, val,_id=0, driver=None):\n",
    "    try:\n",
    "        if not driver: driver=DR\n",
    "        sec('class', select)        \n",
    "        wait('class', ul_name)\n",
    "        ul=driver.find_elements_by_class_name(ul_name)[_id]\n",
    "        lis=ul.find_elements_by_tag_name('li')\n",
    "        for li in lis:        \n",
    "            if val in li.text: \n",
    "                li.click()\n",
    "                break    \n",
    "    except: pe()\n",
    "doc_js=driver_option_click_js\n",
    "def driver_element_text(selector, val, index=0, driver=None):\n",
    "    try:    return ' '.join(element(selector, val, index=index, driver=driver).text.strip().split())\n",
    "    except: pe()\n",
    "    return  ''\n",
    "det=driver_element_text\n",
    "\n",
    "#REGION: SETUP\n",
    "def setup(user_agent=None, proxy=False,\n",
    "          no_sandbox=True, incognito=True,\n",
    "          extension=None, debug=False,\n",
    "          new_driver=True):\n",
    "    global DR, START_TIME, WDW_DELAY, ROOT_PATH, SCRIPT_PATH, DEBUG\n",
    "    try:\n",
    "        DEBUG=debug\n",
    "        WDW_DELAY=5 if DEBUG else 30\n",
    "        ROOT_PATH=os.getcwd()\n",
    "        SCRIPT_PATH=os.path.realpath(__file__)[:-6]\n",
    "        START_TIME=dtn()\n",
    "        \n",
    "        log('> DEBUG:\\t'+str(DEBUG))\n",
    "        log('> SCRIPT_PATH:\\t'+SCRIPT_PATH)\n",
    "        log('> ROOT_PATH:\\t'+ROOT_PATH)\n",
    "        log('> START_TIME:\\t'+START_TIME)\n",
    "        if new_driver: DR=driver(user_agent, proxy, no_sandbox, incognito, extension, debug)      \n",
    "    except: pe()\n",
    "log('> Loaded ptl.get module.')"
   ]
  },
  {
   "cell_type": "code",
   "execution_count": null,
   "metadata": {},
   "outputs": [],
   "source": [
    "rows=[{'a':123, 'b':333}, {'a':22, 'b':44}]\n",
    "rows"
   ]
  },
  {
   "cell_type": "code",
   "execution_count": null,
   "metadata": {},
   "outputs": [],
   "source": [
    "rows=[{'a':123, 'b':333}, {'a':22, 'c':44}]\n",
    "def swap_key(rows, old_keys, new_key):\n",
    "    old_keys=set(old_keys)\n",
    "    new_key=\n",
    "    for row in rows:\n",
    "        old_key = old_keys.intersection(similar_col)\n",
    "        if old_key:\n",
    "            row[new_key] = row.pop(list(old_key)[0])\n",
    "swap_key(rows, set(['b','c']), 'd')\n",
    "rows"
   ]
  },
  {
   "cell_type": "code",
   "execution_count": null,
   "metadata": {},
   "outputs": [],
   "source": [
    "'d' in ['a','d']"
   ]
  },
  {
   "cell_type": "code",
   "execution_count": null,
   "metadata": {},
   "outputs": [],
   "source": [
    "frozenset(rows[0].keys()).intersection(frozenset(['a','d']))\n"
   ]
  },
  {
   "cell_type": "code",
   "execution_count": null,
   "metadata": {},
   "outputs": [],
   "source": [
    "b1 = [1,2,3,4,5,9,11,15]\n",
    "b2 = [5,6,7,8]\n",
    "if set(b1).intersection(b2):\n",
    "    print('a')"
   ]
  },
  {
   "cell_type": "code",
   "execution_count": 119,
   "metadata": {},
   "outputs": [],
   "source": [
    "domain='lazada.com'"
   ]
  },
  {
   "cell_type": "code",
   "execution_count": 120,
   "metadata": {},
   "outputs": [],
   "source": [
    "URL='https://www.semrush.com/projects/#no-projects/'"
   ]
  },
  {
   "cell_type": "code",
   "execution_count": 121,
   "metadata": {},
   "outputs": [
    {
     "name": "stdout",
     "output_type": "stream",
     "text": [
      "> PLATFORM:\twin32\n",
      "> DEBUG:\tTrue\n",
      "> LIB_PATH:\tE:\\jupyter_notebook\\20171102\\ptl\\\n",
      "> ROOT_PATH:\tE:\\jupyter_notebook\\20171102\n",
      "> START_TIME:\t20171102_1702\n",
      "> Open new webdriver.\n"
     ]
    }
   ],
   "source": [
    "from ptl import get\n",
    "get.setup(debug=True, new_driver=True)"
   ]
  },
  {
   "cell_type": "code",
   "execution_count": 122,
   "metadata": {},
   "outputs": [
    {
     "name": "stdout",
     "output_type": "stream",
     "text": [
      "> Get site: https://www.semrush.com/\n"
     ]
    }
   ],
   "source": [
    "URL='https://www.semrush.com/'\n",
    "get.dgs(URL)"
   ]
  },
  {
   "cell_type": "code",
   "execution_count": 123,
   "metadata": {},
   "outputs": [
    {
     "name": "stdout",
     "output_type": "stream",
     "text": [
      "> Wait for element:\tclass=header__navigation-login\n"
     ]
    }
   ],
   "source": [
    "get.dec('header__navigation-login')"
   ]
  },
  {
   "cell_type": "code",
   "execution_count": 124,
   "metadata": {},
   "outputs": [
    {
     "name": "stdout",
     "output_type": "stream",
     "text": [
      "> Wait for element:\tname=email\n",
      "> Wait for element:\tname=password\n",
      "> Wait for element:\tdata-test=auth-popup__submit\n",
      "> WebDriverException at line 354: Message: unknown error: Unsupported locator strategy: data-test\n",
      "  (Session info: chrome=61.0.3163.100)\n",
      "  (Driver info: chromedriver=2.32.498550 (9dec58e66c31bcc53a9ce3c7226f0c1c5810906a),platform=Windows NT 10.0.14393 x86_64)\n",
      "\n"
     ]
    }
   ],
   "source": [
    "get.dsk('r1673033@mvrht.net', 'email', 'name')\n",
    "get.dsk('asd123', 'password', 'name')\n",
    "get.dec('auth-popup__submit', clas='data-test')"
   ]
  },
  {
   "cell_type": "code",
   "execution_count": 126,
   "metadata": {},
   "outputs": [
    {
     "name": "stdout",
     "output_type": "stream",
     "text": [
      "> Get site: https://www.semrush.com/projects/\n"
     ]
    }
   ],
   "source": [
    "#goto the projects page and delete the last added domain\n",
    "get.dgs('https://www.semrush.com/projects/')\n",
    "get.dec('sr-infomenu-title')\n",
    "get.de('sr-infomenu-content').find_elements_by_tag_name('li')[1].click()\n",
    "get.dsk(domain, 'Project name', 'placeholder')\n",
    "get.dec('s-btn -s -danger js-remove')"
   ]
  },
  {
   "cell_type": "code",
   "execution_count": 125,
   "metadata": {},
   "outputs": [
    {
     "name": "stdout",
     "output_type": "stream",
     "text": [
      "> Wait for element:\tdata-test=auth-popup__submit\n",
      "> WebDriverException at line 354: Message: unknown error: Unsupported locator strategy: data-test\n",
      "  (Session info: chrome=61.0.3163.100)\n",
      "  (Driver info: chromedriver=2.32.498550 (9dec58e66c31bcc53a9ce3c7226f0c1c5810906a),platform=Windows NT 10.0.14393 x86_64)\n",
      "\n",
      "> No element:\t\tdata-test=auth-popup__submit\n",
      "> AttributeError at line 401: 'NoneType' object has no attribute 'click'\n"
     ]
    }
   ],
   "source": [
    "get.dec('auth-popup__submit', clas='data-test')"
   ]
  },
  {
   "cell_type": "code",
   "execution_count": null,
   "metadata": {},
   "outputs": [],
   "source": [
    "get.dec('auth-form__button')"
   ]
  },
  {
   "cell_type": "code",
   "execution_count": 131,
   "metadata": {},
   "outputs": [
    {
     "name": "stdout",
     "output_type": "stream",
     "text": [
      "> Get site: https://www.semrush.com/projects/\n"
     ]
    }
   ],
   "source": []
  },
  {
   "cell_type": "code",
   "execution_count": 132,
   "metadata": {},
   "outputs": [
    {
     "name": "stdout",
     "output_type": "stream",
     "text": [
      "> Wait for element:\tclass=s-btn -m -success js-add-project\n",
      "> TimeoutException at line 354: Message: \n",
      "\n",
      "> Wait for element:\tclass=js-input-domain\n",
      "> Wait for element:\tclass=js-input-name\n"
     ]
    }
   ],
   "source": []
  },
  {
   "cell_type": "code",
   "execution_count": 135,
   "metadata": {},
   "outputs": [
    {
     "name": "stdout",
     "output_type": "stream",
     "text": [
      "> Wait for element:\tclass=s-btn__text\n"
     ]
    }
   ],
   "source": [
    "get.dec('s-btn__text', clas='class', index=-1)\n",
    "while get.dec('sa-wizard js-wizard'):\n",
    "    get.time.sleep(1)\n",
    "    get.log('> Waiting')"
   ]
  },
  {
   "cell_type": "code",
   "execution_count": 136,
   "metadata": {},
   "outputs": [
    {
     "name": "stdout",
     "output_type": "stream",
     "text": [
      "> Wait for element:\tdata-action=setup\n",
      "> WebDriverException at line 354: Message: unknown error: Unsupported locator strategy: data-action\n",
      "  (Session info: chrome=61.0.3163.100)\n",
      "  (Driver info: chromedriver=2.32.498550 (9dec58e66c31bcc53a9ce3c7226f0c1c5810906a),platform=Windows NT 10.0.14393 x86_64)\n",
      "\n"
     ]
    }
   ],
   "source": [
    "get.dec('setup', clas='data-action')"
   ]
  },
  {
   "cell_type": "code",
   "execution_count": null,
   "metadata": {},
   "outputs": [],
   "source": [
    "text=get.det('s-widget__progress-title')\n",
    "def check_progress(text):\n",
    "    return int(text.split(': ')[1].split('/')[0])==100\n",
    "while not check_progress(text):\n",
    "    get.time.sleep(1)\n",
    "    text=get.det('s-widget__progress-title')\n",
    "    print(text)\n",
    "    if not text or len(text)<3:\n",
    "        break\n"
   ]
  },
  {
   "cell_type": "code",
   "execution_count": null,
   "metadata": {
    "scrolled": true
   },
   "outputs": [],
   "source": [
    "get.dec('js-widget s-widget -available')"
   ]
  },
  {
   "cell_type": "code",
   "execution_count": null,
   "metadata": {},
   "outputs": [],
   "source": [
    "def get_project_id(url):\n",
    "    for part in url.split('/'):\n",
    "        if part.isdigit():\n",
    "            return part\n",
    "get_project_id('https://www.semrush.com/siteaudit/campaign/1050199/review/#issues')"
   ]
  },
  {
   "cell_type": "code",
   "execution_count": null,
   "metadata": {},
   "outputs": [],
   "source": [
    "get.dgs('https://www.semrush.com/siteaudit/campaign/1050199/review/#issues')"
   ]
  },
  {
   "cell_type": "code",
   "execution_count": null,
   "metadata": {},
   "outputs": [],
   "source": [
    "get.DR.current_url"
   ]
  },
  {
   "cell_type": "code",
   "execution_count": null,
   "metadata": {},
   "outputs": [],
   "source": [
    "def get_rows(ul): \n",
    "    return [li.text.strip().replace('\\n', ' | ') for li in ul.find_elements_by_tag_name('li')]\n",
    "ERRORS = get_rows(get.des('sa-issuesErrors')[1])\n",
    "WARNINGS = get_rows(get.des('sa-issuesWarnings')[1])\n",
    "NOTICES = get_rows(get.des('sa-issuesNotices')[1])\n",
    "COLS=set(['4XX', '404', '5XX', '500', 'HTTPS', 'IMAGES', 'ALT'])\n",
    "def check_for_error(rows, title='errors'):\n",
    "    result=title\n",
    "    for row in rows:\n",
    "        text_bag = set(row.upper().split())\n",
    "        intersect= text_bag.intersection(COLS)\n",
    "        if intersect:\n",
    "            result+=('\\n'+' | '.join(list(intersect))+'\\t'+ row)\n",
    "    print(result)\n",
    "    return result\n",
    "check_for_error(ERRORS, 'ERRORS:')\n",
    "check_for_error(WARNINGS, 'WARNINGS:')\n",
    "check_for_error(NOTICES, 'NOTICES:')"
   ]
  },
  {
   "cell_type": "code",
   "execution_count": null,
   "metadata": {},
   "outputs": [],
   "source": [
    "get.dgs('https://www.semrush.com/projects/#1050199/view/')"
   ]
  }
 ],
 "metadata": {
  "kernelspec": {
   "display_name": "Python 3",
   "language": "python",
   "name": "python3"
  },
  "language_info": {
   "codemirror_mode": {
    "name": "ipython",
    "version": 3
   },
   "file_extension": ".py",
   "mimetype": "text/x-python",
   "name": "python",
   "nbconvert_exporter": "python",
   "pygments_lexer": "ipython3",
   "version": "3.6.3"
  }
 },
 "nbformat": 4,
 "nbformat_minor": 2
}
